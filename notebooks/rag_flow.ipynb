{
 "cells": [
  {
   "cell_type": "markdown",
   "metadata": {},
   "source": [
    "# RAG Flow\n",
    "\n",
    "## Flow\n",
    "\n",
    "1. Get user query\n",
    "2. Retrieve context from Knowledge Base based on query\n",
    "3. Create LLM prompt from query and context\n",
    "4. Send Prompt to LLM and get response"
   ]
  },
  {
   "cell_type": "markdown",
   "metadata": {},
   "source": [
    "## Libraries"
   ]
  },
  {
   "cell_type": "code",
   "execution_count": 2,
   "metadata": {},
   "outputs": [
    {
     "name": "stderr",
     "output_type": "stream",
     "text": [
      "/home/alex/repos/rag_nutrition_facts_blog/tvenv/lib/python3.12/site-packages/tqdm/auto.py:21: TqdmWarning: IProgress not found. Please update jupyter and ipywidgets. See https://ipywidgets.readthedocs.io/en/stable/user_install.html\n",
      "  from .autonotebook import tqdm as notebook_tqdm\n"
     ]
    }
   ],
   "source": [
    "import os\n",
    "import warnings\n",
    "\n",
    "import lancedb\n",
    "import requests\n",
    "from dotenv import load_dotenv\n",
    "from groq import Groq\n",
    "from lancedb.table import Table\n",
    "\n",
    "from src.constants import LANCEDB_URI, REPO_PATH\n",
    "from src.prompt_building import WELCOME_MSG, build_system_msg\n",
    "from src.retrieval import get_context, get_knowledge_base\n",
    "\n",
    "# ignore some warnings\n",
    "warnings.simplefilter(action=\"ignore\", category=FutureWarning)"
   ]
  },
  {
   "cell_type": "markdown",
   "metadata": {},
   "source": [
    "# Parameters"
   ]
  },
  {
   "cell_type": "code",
   "execution_count": 3,
   "metadata": {},
   "outputs": [],
   "source": [
    "# secrets\n",
    "load_dotenv(REPO_PATH)\n",
    "groq_api_key = os.getenv(\"GROQ_TOKEN\")"
   ]
  },
  {
   "cell_type": "markdown",
   "metadata": {},
   "source": [
    "## Code"
   ]
  },
  {
   "cell_type": "markdown",
   "metadata": {},
   "source": [
    "## Setup \n",
    "\n",
    "### Indexes for Knowledge Base"
   ]
  },
  {
   "cell_type": "code",
   "execution_count": 3,
   "metadata": {},
   "outputs": [
    {
     "name": "stdout",
     "output_type": "stream",
     "text": [
      "Number of entries in the table: 13957\n"
     ]
    }
   ],
   "source": [
    "k_base: Table = get_knowledge_base()\n",
    "print(f\"Number of entries in the table: {k_base.count_rows()}\")"
   ]
  },
  {
   "cell_type": "code",
   "execution_count": 4,
   "metadata": {},
   "outputs": [],
   "source": [
    "# Full-text search index\n",
    "# k_base.create_fts_index([\"text\", \"title\", \"tags\"], replace=True)"
   ]
  },
  {
   "cell_type": "code",
   "execution_count": 5,
   "metadata": {},
   "outputs": [],
   "source": [
    "# Vector search index\n",
    "# (takes 30-60 seconds)\n",
    "# from constants import get_rag_config\n",
    "# device: str = get_rag_config()[\"embeddings\"][\"device\"]\n",
    "# k_base.create_index(metric=\"cosine\", replace=True, accelerator=\"cuda\" if device == \"cuda\" else None)"
   ]
  },
  {
   "cell_type": "markdown",
   "metadata": {},
   "source": [
    "## 1. User Query"
   ]
  },
  {
   "cell_type": "code",
   "execution_count": 8,
   "metadata": {},
   "outputs": [],
   "source": [
    "query_text: str = \"How can I reduce my heart Disease Risk?\""
   ]
  },
  {
   "cell_type": "markdown",
   "metadata": {},
   "source": [
    "## 2. Retrieve Context from Knowledge Base"
   ]
  },
  {
   "cell_type": "code",
   "execution_count": 6,
   "metadata": {},
   "outputs": [
    {
     "name": "stdout",
     "output_type": "stream",
     "text": [
      "Number of entries in the table: 7023\n"
     ]
    }
   ],
   "source": [
    "db = lancedb.connect(uri=LANCEDB_URI)\n",
    "k_base = db.open_table(\"table_simple05\")\n",
    "print(f\"Number of entries in the table: {k_base.count_rows()}\")"
   ]
  },
  {
   "cell_type": "code",
   "execution_count": 7,
   "metadata": {},
   "outputs": [
    {
     "name": "stdout",
     "output_type": "stream",
     "text": [
      "1. Title 'Breast Cancer and Alcohol: How Much Is Safe?' (URL: https://nutritionfacts.org/blog/breast-cancer-alcohol-how-much-is-safe/):\n",
      "\t- though, when you may nearly eliminate the risk of heart disease with a healthy enough diet? See, for example, my video Eliminating the #1 Cause of Death. A plant-based diet that excludes certain plant-based (alcoholic) beverages may therefore be the best for overall longevity. The other mouthwash video I refer to in the above video is Don't Use Antiseptic Mouthwash, part of a video series on improving athletic performance with nitrate-containing vegetables (if interested, start here: Doping With Beet Juice). How else might one reduce breast cancer risk? Please feel free to check out:\n",
      "\t- using alcohol in such products.' So why isn't the same recommendation made for alcoholic beverages? Well, as the Harvard paper concludes, 'individuals will need to weigh the risks of light to moderate alcohol use on breast cancer development against the benefits for heart disease prevention to make the best personal choice regarding alcohol consumption.' They're talking about the famous J shaped curve (watch my 4-min video Breast Cancer and Alcohol: How Much is Safe? to check it out). While smoking is bad and more smoking is worse, and in general exercising is good and more exercise is better, for alcohol there appears to be a beneficial effect of small doses. A six-pack a day raises overall mortality, but so does teetotalling. The #1 killer of women isn't breast cancer, but heart disease, and a drink a day reduces the risk of heart disease. Why just reduce the risk of heart disease, though, when you may nearly eliminate the risk of heart disease with a healthy enough diet? See, for\n",
      "2. Title 'Were We Wrong About Fiber?' (URL: https://nutritionfacts.org/blog/were-we-wrong-about-fiber/):\n",
      "\t- In my video Is the Fiber Theory Wrong?, I present that fiber-containing foods may not only help prevent heart disease, but also help treat it as well. Heart patients who increase their intake of fiber after their first heart attack reduce their risk of a second and live longer than those who don't. But what if we don't want to have a heart attack in the first place? If 7 grams of fiber gets us a 9 percent reduced risk, would 77 grams a day drop our risk by 99 percent? That's about how much fiber they used to eat in Uganda, a country in which coronary heart disease, our number-one killer, was almost nonexistent. Heart disease was so rare among those eating traditional plant-based diets in Uganda that papers were published with such titles as 'A Case of Coronary Heart Disease in an African.' After 26 years of medical practice in East Africa, doctors finally recorded their first case of coronary heart disease (in a judge who consumed a 'partially Westernized diet,' in which fiber-free\n",
      "3. Title 'Why Don’t More Doctors Practice Prevention?' (URL: https://nutritionfacts.org/blog/why-dont-more-doctors-practice-prevention/):\n",
      "\t- ing to the Director of the famous Framingham Heart Study (highlighted in my video, Barriers to Heart Disease Prevention), the best way to manage coronary artery disease is to lower patients' LDL cholesterol and other atherosclerosis-causing particles. 'You can achieve this with diet plus drugs, but if you can do it with a vegetarian diet, it works even better.' In the Framingham Heart Study, those running in the Boston Marathon achieved the goal of getting their total to good cholesterol ratio under four, but the vegetarians did even better. And if you go all out, putting people on a very high fiber, whole-food vegetable, fruit, and nut diet, you can get a 25 percent drop in the bad to good cholesterol ratio within one week and a 33 percent drop in LDL. That's the cholesterol-reduction equivalent to a therapeutic dose of a cholesterol-lowering statin drug. Dr. Ornish talks about how diet can be more sustainable than drugs, since compliance is more based on love-of-life rather than\n",
      "4. Title 'How Not to Die from Heart Disease' (URL: https://nutritionfacts.org/blog/how-not-to-die-from-heart-disease/):\n",
      "\t- role diet may play in preventing and treating heart disease? Check out these other popular videos on the topic:\n",
      "5. Title 'Moderation Kills' (URL: https://nutritionfacts.org/blog/moderation-kills/):\n",
      "\t- What if we don't want just low risk for a heart attack, but no risk? One great stumbling block has been that government and national health organizations appear to have taken the patronizing view that the public can't handle the truth and would rather the science be watered down. However, as Dr. Esselstyn wrote in the Cleveland Clinic Journal of Medicine, in regard to cholesterol lowering, moderation kills. 'Even if all Americans kept their total cholesterol below 200 mg/dL, as recommended by the American Heart Association, millions would develop coronary artery disease.' Strong evidence shows we need to keep our total cholesterol under 150 mg/dL in order to stem the American epidemic of coronary artery disease, our number-one killer. What kind of evidence? In many cultures, coronary artery disease is practically unheard of when total serum cholesterol levels are under 150 mg/dL. In the United States, the famous Framingham Heart Study demonstrated that few of those with levels below\n"
     ]
    }
   ],
   "source": [
    "# get the table\n",
    "resp_formatted = get_context(k_base, query_text)\n",
    "print(resp_formatted)"
   ]
  },
  {
   "cell_type": "markdown",
   "metadata": {},
   "source": [
    "## 3. Create LLM prompt from query and context"
   ]
  },
  {
   "cell_type": "code",
   "execution_count": 9,
   "metadata": {},
   "outputs": [
    {
     "name": "stdout",
     "output_type": "stream",
     "text": [
      "\n",
      "<instruction>\n",
      "You are my digital clone of Dr. Greger, who has written over ~1200 blog post on topics around healthy eating and living, which are saved in the your knowledge base.\n",
      "You will try to answer questions of a user who seeks medical advice from  Dr. Greger.\n",
      "Keep the response concise.\n",
      "Cite in the response the url and title of used blog posts for transparency.\n",
      "Rely solely on the information provided and refrain from making assumptions, making things up, or referring to outside sources.\n",
      "Always mention that it's important for serious it;s important to seek medical advice from professionals.\n",
      "If you don't know the answer, say you don't know.\n",
      "</instruction>\n",
      "\n",
      "<context>\n",
      "Here is a list of blog posts and their relevant paragraphs that have been retrieved from your knowledge base based on the most recent message posted by the user:\n",
      "\n",
      "1. Title 'Breast Cancer and Alcohol: How Much Is Safe?' (URL: https://nutritionfacts.org/blog/breast-cancer-alcohol-how-much-is-safe/):\n",
      "\t- though, when you may nearly eliminate the risk of heart disease with a healthy enough diet? See, for example, my video Eliminating the #1 Cause of Death. A plant-based diet that excludes certain plant-based (alcoholic) beverages may therefore be the best for overall longevity. The other mouthwash video I refer to in the above video is Don't Use Antiseptic Mouthwash, part of a video series on improving athletic performance with nitrate-containing vegetables (if interested, start here: Doping With Beet Juice). How else might one reduce breast cancer risk? Please feel free to check out:\n",
      "\t- using alcohol in such products.' So why isn't the same recommendation made for alcoholic beverages? Well, as the Harvard paper concludes, 'individuals will need to weigh the risks of light to moderate alcohol use on breast cancer development against the benefits for heart disease prevention to make the best personal choice regarding alcohol consumption.' They're talking about the famous J shaped curve (watch my 4-min video Breast Cancer and Alcohol: How Much is Safe? to check it out). While smoking is bad and more smoking is worse, and in general exercising is good and more exercise is better, for alcohol there appears to be a beneficial effect of small doses. A six-pack a day raises overall mortality, but so does teetotalling. The #1 killer of women isn't breast cancer, but heart disease, and a drink a day reduces the risk of heart disease. Why just reduce the risk of heart disease, though, when you may nearly eliminate the risk of heart disease with a healthy enough diet? See, for\n",
      "2. Title 'Were We Wrong About Fiber?' (URL: https://nutritionfacts.org/blog/were-we-wrong-about-fiber/):\n",
      "\t- In my video Is the Fiber Theory Wrong?, I present that fiber-containing foods may not only help prevent heart disease, but also help treat it as well. Heart patients who increase their intake of fiber after their first heart attack reduce their risk of a second and live longer than those who don't. But what if we don't want to have a heart attack in the first place? If 7 grams of fiber gets us a 9 percent reduced risk, would 77 grams a day drop our risk by 99 percent? That's about how much fiber they used to eat in Uganda, a country in which coronary heart disease, our number-one killer, was almost nonexistent. Heart disease was so rare among those eating traditional plant-based diets in Uganda that papers were published with such titles as 'A Case of Coronary Heart Disease in an African.' After 26 years of medical practice in East Africa, doctors finally recorded their first case of coronary heart disease (in a judge who consumed a 'partially Westernized diet,' in which fiber-free\n",
      "3. Title 'Why Don’t More Doctors Practice Prevention?' (URL: https://nutritionfacts.org/blog/why-dont-more-doctors-practice-prevention/):\n",
      "\t- ing to the Director of the famous Framingham Heart Study (highlighted in my video, Barriers to Heart Disease Prevention), the best way to manage coronary artery disease is to lower patients' LDL cholesterol and other atherosclerosis-causing particles. 'You can achieve this with diet plus drugs, but if you can do it with a vegetarian diet, it works even better.' In the Framingham Heart Study, those running in the Boston Marathon achieved the goal of getting their total to good cholesterol ratio under four, but the vegetarians did even better. And if you go all out, putting people on a very high fiber, whole-food vegetable, fruit, and nut diet, you can get a 25 percent drop in the bad to good cholesterol ratio within one week and a 33 percent drop in LDL. That's the cholesterol-reduction equivalent to a therapeutic dose of a cholesterol-lowering statin drug. Dr. Ornish talks about how diet can be more sustainable than drugs, since compliance is more based on love-of-life rather than\n",
      "4. Title 'How Not to Die from Heart Disease' (URL: https://nutritionfacts.org/blog/how-not-to-die-from-heart-disease/):\n",
      "\t- role diet may play in preventing and treating heart disease? Check out these other popular videos on the topic:\n",
      "5. Title 'Moderation Kills' (URL: https://nutritionfacts.org/blog/moderation-kills/):\n",
      "\t- What if we don't want just low risk for a heart attack, but no risk? One great stumbling block has been that government and national health organizations appear to have taken the patronizing view that the public can't handle the truth and would rather the science be watered down. However, as Dr. Esselstyn wrote in the Cleveland Clinic Journal of Medicine, in regard to cholesterol lowering, moderation kills. 'Even if all Americans kept their total cholesterol below 200 mg/dL, as recommended by the American Heart Association, millions would develop coronary artery disease.' Strong evidence shows we need to keep our total cholesterol under 150 mg/dL in order to stem the American epidemic of coronary artery disease, our number-one killer. What kind of evidence? In many cultures, coronary artery disease is practically unheard of when total serum cholesterol levels are under 150 mg/dL. In the United States, the famous Framingham Heart Study demonstrated that few of those with levels below\n",
      "\n",
      "</context>\n",
      "\n"
     ]
    }
   ],
   "source": [
    "system_msg = build_system_msg(context=resp_formatted)\n",
    "print(system_msg)"
   ]
  },
  {
   "cell_type": "code",
   "execution_count": 11,
   "metadata": {},
   "outputs": [
    {
     "name": "stdout",
     "output_type": "stream",
     "text": [
      "SYSTEM: \n",
      "<instruction>\n",
      "You are my digital clone of Dr. Greger, who has written over ~1200 blog post on topics around healthy eating and living, which are saved in the your knowledge base.\n",
      "You will try to answer questions of a user who seeks medical advice from  Dr. Greger.\n",
      "Keep the response concise.\n",
      "Cite in the response the url and title of used blog posts for transparency.\n",
      "Rely solely on the information provided and refrain from making assumptions, making things up, or referring to outside sources.\n",
      "Always mention that it's important for serious it;s important to seek medical advice from professionals.\n",
      "If you don't know the answer, say you don't know.\n",
      "</instruction>\n",
      "\n",
      "<context>\n",
      "Here is a list of blog posts and their relevant paragraphs that have been retrieved from your knowledge base based on the most recent message posted by the user:\n",
      "\n",
      "1. Title 'Breast Cancer and Alcohol: How Much Is Safe?' (URL: https://nutritionfacts.org/blog/breast-cancer-alcohol-how-much-is-safe/):\n",
      "\t- though, when you may nearly eliminate the risk of heart disease with a healthy enough diet? See, for example, my video Eliminating the #1 Cause of Death. A plant-based diet that excludes certain plant-based (alcoholic) beverages may therefore be the best for overall longevity. The other mouthwash video I refer to in the above video is Don't Use Antiseptic Mouthwash, part of a video series on improving athletic performance with nitrate-containing vegetables (if interested, start here: Doping With Beet Juice). How else might one reduce breast cancer risk? Please feel free to check out:\n",
      "\t- using alcohol in such products.' So why isn't the same recommendation made for alcoholic beverages? Well, as the Harvard paper concludes, 'individuals will need to weigh the risks of light to moderate alcohol use on breast cancer development against the benefits for heart disease prevention to make the best personal choice regarding alcohol consumption.' They're talking about the famous J shaped curve (watch my 4-min video Breast Cancer and Alcohol: How Much is Safe? to check it out). While smoking is bad and more smoking is worse, and in general exercising is good and more exercise is better, for alcohol there appears to be a beneficial effect of small doses. A six-pack a day raises overall mortality, but so does teetotalling. The #1 killer of women isn't breast cancer, but heart disease, and a drink a day reduces the risk of heart disease. Why just reduce the risk of heart disease, though, when you may nearly eliminate the risk of heart disease with a healthy enough diet? See, for\n",
      "2. Title 'Were We Wrong About Fiber?' (URL: https://nutritionfacts.org/blog/were-we-wrong-about-fiber/):\n",
      "\t- In my video Is the Fiber Theory Wrong?, I present that fiber-containing foods may not only help prevent heart disease, but also help treat it as well. Heart patients who increase their intake of fiber after their first heart attack reduce their risk of a second and live longer than those who don't. But what if we don't want to have a heart attack in the first place? If 7 grams of fiber gets us a 9 percent reduced risk, would 77 grams a day drop our risk by 99 percent? That's about how much fiber they used to eat in Uganda, a country in which coronary heart disease, our number-one killer, was almost nonexistent. Heart disease was so rare among those eating traditional plant-based diets in Uganda that papers were published with such titles as 'A Case of Coronary Heart Disease in an African.' After 26 years of medical practice in East Africa, doctors finally recorded their first case of coronary heart disease (in a judge who consumed a 'partially Westernized diet,' in which fiber-free\n",
      "3. Title 'Why Don’t More Doctors Practice Prevention?' (URL: https://nutritionfacts.org/blog/why-dont-more-doctors-practice-prevention/):\n",
      "\t- ing to the Director of the famous Framingham Heart Study (highlighted in my video, Barriers to Heart Disease Prevention), the best way to manage coronary artery disease is to lower patients' LDL cholesterol and other atherosclerosis-causing particles. 'You can achieve this with diet plus drugs, but if you can do it with a vegetarian diet, it works even better.' In the Framingham Heart Study, those running in the Boston Marathon achieved the goal of getting their total to good cholesterol ratio under four, but the vegetarians did even better. And if you go all out, putting people on a very high fiber, whole-food vegetable, fruit, and nut diet, you can get a 25 percent drop in the bad to good cholesterol ratio within one week and a 33 percent drop in LDL. That's the cholesterol-reduction equivalent to a therapeutic dose of a cholesterol-lowering statin drug. Dr. Ornish talks about how diet can be more sustainable than drugs, since compliance is more based on love-of-life rather than\n",
      "4. Title 'How Not to Die from Heart Disease' (URL: https://nutritionfacts.org/blog/how-not-to-die-from-heart-disease/):\n",
      "\t- role diet may play in preventing and treating heart disease? Check out these other popular videos on the topic:\n",
      "5. Title 'Moderation Kills' (URL: https://nutritionfacts.org/blog/moderation-kills/):\n",
      "\t- What if we don't want just low risk for a heart attack, but no risk? One great stumbling block has been that government and national health organizations appear to have taken the patronizing view that the public can't handle the truth and would rather the science be watered down. However, as Dr. Esselstyn wrote in the Cleveland Clinic Journal of Medicine, in regard to cholesterol lowering, moderation kills. 'Even if all Americans kept their total cholesterol below 200 mg/dL, as recommended by the American Heart Association, millions would develop coronary artery disease.' Strong evidence shows we need to keep our total cholesterol under 150 mg/dL in order to stem the American epidemic of coronary artery disease, our number-one killer. What kind of evidence? In many cultures, coronary artery disease is practically unheard of when total serum cholesterol levels are under 150 mg/dL. In the United States, the famous Framingham Heart Study demonstrated that few of those with levels below\n",
      "\n",
      "</context>\n",
      "\n",
      "ASSISTANT: \n",
      "Hi **John Doe**! 🌟 Welcome to your personal guide on healthy eating and lifestyle habits. I'm here to help you\n",
      "navigate the world of nutrition with science-backed insights from\n",
      "[Dr. Michael Greger & his team](https://nutritionfacts.org/team/)\n",
      "at [NutritionFacts.org](https://nutritionfacts.org/about/). Whether you have a quick question or need detailed advice,\n",
      "I'm ready to assist you on your journey to a healthier, happier life. Let's get started! 💚\n",
      "\n",
      "USER: How can I reduce my heart Disease Risk?\n"
     ]
    }
   ],
   "source": [
    "MESSAGES: list[dict[str, str]] = [\n",
    "    {\"role\": \"system\", \"content\": system_msg},\n",
    "    {\"role\": \"assistant\", \"content\": WELCOME_MSG.format(user_name=\"John Doe\")},\n",
    "    {\"role\": \"user\", \"content\": query_text},\n",
    "]\n",
    "for message in MESSAGES:\n",
    "    print(f\"{message['role'].upper()}: {message['content']}\")"
   ]
  },
  {
   "cell_type": "code",
   "execution_count": 12,
   "metadata": {},
   "outputs": [
    {
     "data": {
      "text/plain": [
       "[{'role': 'system',\n",
       "  'content': \"\\n<instruction>\\nYou are my digital clone of Dr. Greger, who has written over ~1200 blog post on topics around healthy eating and living, which are saved in the your knowledge base.\\nYou will try to answer questions of a user who seeks medical advice from  Dr. Greger.\\nKeep the response concise.\\nCite in the response the url and title of used blog posts for transparency.\\nRely solely on the information provided and refrain from making assumptions, making things up, or referring to outside sources.\\nAlways mention that it's important for serious it;s important to seek medical advice from professionals.\\nIf you don't know the answer, say you don't know.\\n</instruction>\\n\\n<context>\\nHere is a list of blog posts and their relevant paragraphs that have been retrieved from your knowledge base based on the most recent message posted by the user:\\n\\n1. Title 'Breast Cancer and Alcohol: How Much Is Safe?' (URL: https://nutritionfacts.org/blog/breast-cancer-alcohol-how-much-is-safe/):\\n\\t- though, when you may nearly eliminate the risk of heart disease with a healthy enough diet? See, for example, my video Eliminating the #1 Cause of Death. A plant-based diet that excludes certain plant-based (alcoholic) beverages may therefore be the best for overall longevity. The other mouthwash video I refer to in the above video is Don't Use Antiseptic Mouthwash, part of a video series on improving athletic performance with nitrate-containing vegetables (if interested, start here: Doping With Beet Juice). How else might one reduce breast cancer risk? Please feel free to check out:\\n\\t- using alcohol in such products.' So why isn't the same recommendation made for alcoholic beverages? Well, as the Harvard paper concludes, 'individuals will need to weigh the risks of light to moderate alcohol use on breast cancer development against the benefits for heart disease prevention to make the best personal choice regarding alcohol consumption.' They're talking about the famous J shaped curve (watch my 4-min video Breast Cancer and Alcohol: How Much is Safe? to check it out). While smoking is bad and more smoking is worse, and in general exercising is good and more exercise is better, for alcohol there appears to be a beneficial effect of small doses. A six-pack a day raises overall mortality, but so does teetotalling. The #1 killer of women isn't breast cancer, but heart disease, and a drink a day reduces the risk of heart disease. Why just reduce the risk of heart disease, though, when you may nearly eliminate the risk of heart disease with a healthy enough diet? See, for\\n2. Title 'Were We Wrong About Fiber?' (URL: https://nutritionfacts.org/blog/were-we-wrong-about-fiber/):\\n\\t- In my video Is the Fiber Theory Wrong?, I present that fiber-containing foods may not only help prevent heart disease, but also help treat it as well. Heart patients who increase their intake of fiber after their first heart attack reduce their risk of a second and live longer than those who don't. But what if we don't want to have a heart attack in the first place? If 7 grams of fiber gets us a 9 percent reduced risk, would 77 grams a day drop our risk by 99 percent? That's about how much fiber they used to eat in Uganda, a country in which coronary heart disease, our number-one killer, was almost nonexistent. Heart disease was so rare among those eating traditional plant-based diets in Uganda that papers were published with such titles as 'A Case of Coronary Heart Disease in an African.' After 26 years of medical practice in East Africa, doctors finally recorded their first case of coronary heart disease (in a judge who consumed a 'partially Westernized diet,' in which fiber-free\\n3. Title 'Why Don’t More Doctors Practice Prevention?' (URL: https://nutritionfacts.org/blog/why-dont-more-doctors-practice-prevention/):\\n\\t- ing to the Director of the famous Framingham Heart Study (highlighted in my video, Barriers to Heart Disease Prevention), the best way to manage coronary artery disease is to lower patients' LDL cholesterol and other atherosclerosis-causing particles. 'You can achieve this with diet plus drugs, but if you can do it with a vegetarian diet, it works even better.' In the Framingham Heart Study, those running in the Boston Marathon achieved the goal of getting their total to good cholesterol ratio under four, but the vegetarians did even better. And if you go all out, putting people on a very high fiber, whole-food vegetable, fruit, and nut diet, you can get a 25 percent drop in the bad to good cholesterol ratio within one week and a 33 percent drop in LDL. That's the cholesterol-reduction equivalent to a therapeutic dose of a cholesterol-lowering statin drug. Dr. Ornish talks about how diet can be more sustainable than drugs, since compliance is more based on love-of-life rather than\\n4. Title 'How Not to Die from Heart Disease' (URL: https://nutritionfacts.org/blog/how-not-to-die-from-heart-disease/):\\n\\t- role diet may play in preventing and treating heart disease? Check out these other popular videos on the topic:\\n5. Title 'Moderation Kills' (URL: https://nutritionfacts.org/blog/moderation-kills/):\\n\\t- What if we don't want just low risk for a heart attack, but no risk? One great stumbling block has been that government and national health organizations appear to have taken the patronizing view that the public can't handle the truth and would rather the science be watered down. However, as Dr. Esselstyn wrote in the Cleveland Clinic Journal of Medicine, in regard to cholesterol lowering, moderation kills. 'Even if all Americans kept their total cholesterol below 200 mg/dL, as recommended by the American Heart Association, millions would develop coronary artery disease.' Strong evidence shows we need to keep our total cholesterol under 150 mg/dL in order to stem the American epidemic of coronary artery disease, our number-one killer. What kind of evidence? In many cultures, coronary artery disease is practically unheard of when total serum cholesterol levels are under 150 mg/dL. In the United States, the famous Framingham Heart Study demonstrated that few of those with levels below\\n\\n</context>\\n\"},\n",
       " {'role': 'assistant',\n",
       "  'content': \"\\nHi **John Doe**! 🌟 Welcome to your personal guide on healthy eating and lifestyle habits. I'm here to help you\\nnavigate the world of nutrition with science-backed insights from\\n[Dr. Michael Greger & his team](https://nutritionfacts.org/team/)\\nat [NutritionFacts.org](https://nutritionfacts.org/about/). Whether you have a quick question or need detailed advice,\\nI'm ready to assist you on your journey to a healthier, happier life. Let's get started! 💚\\n\"},\n",
       " {'role': 'user', 'content': 'How can I reduce my heart Disease Risk?'}]"
      ]
     },
     "execution_count": 12,
     "metadata": {},
     "output_type": "execute_result"
    }
   ],
   "source": [
    "MESSAGES"
   ]
  },
  {
   "cell_type": "markdown",
   "metadata": {},
   "source": [
    "## 4. Send Prompt to LLM and get response"
   ]
  },
  {
   "cell_type": "markdown",
   "metadata": {},
   "source": [
    "### Groq API"
   ]
  },
  {
   "cell_type": "code",
   "execution_count": 13,
   "metadata": {},
   "outputs": [],
   "source": [
    "GROQ_MODELS_URL: str = \"https://api.groq.com/openai/v1/models\"\n",
    "\n",
    "\n",
    "def get_model_list(api_key: str, models_url: str) -> list[dict]:\n",
    "    headers = {\"Authorization\": f\"Bearer {api_key}\", \"Content-Type\": \"application/json\"}\n",
    "    response = requests.get(url=models_url, headers=headers, timeout=5)\n",
    "    response.raise_for_status()  # Raise an HTTPError for bad responses\n",
    "    return response.json()[\"data\"]"
   ]
  },
  {
   "cell_type": "code",
   "execution_count": 14,
   "metadata": {},
   "outputs": [
    {
     "name": "stdout",
     "output_type": "stream",
     "text": [
      "distil-whisper-large-v3-en\n",
      "gemma-7b-it\n",
      "gemma2-9b-it\n",
      "llama-3.1-70b-versatile\n",
      "llama-3.1-8b-instant\n",
      "llama-guard-3-8b\n",
      "llama3-70b-8192\n",
      "llama3-8b-8192\n",
      "llama3-groq-70b-8192-tool-use-preview\n",
      "llama3-groq-8b-8192-tool-use-preview\n",
      "llava-v1.5-7b-4096-preview\n",
      "mixtral-8x7b-32768\n",
      "whisper-large-v3\n"
     ]
    }
   ],
   "source": [
    "# get list of models\n",
    "model_list: list[dict] = get_model_list(api_key=groq_api_key, models_url=GROQ_MODELS_URL)\n",
    "# get active models\n",
    "active_model_ids: list[str] = sorted([md[\"id\"] for md in model_list if md[\"active\"]])\n",
    "for model_id in active_model_ids:\n",
    "    print(model_id)"
   ]
  },
  {
   "cell_type": "code",
   "execution_count": 17,
   "metadata": {},
   "outputs": [
    {
     "data": {
      "text/plain": [
       "{'completion_tokens': 527,\n",
       " 'prompt_tokens': 1703,\n",
       " 'total_tokens': 2230,\n",
       " 'completion_time': 0.851328843,\n",
       " 'prompt_time': 0.076621193,\n",
       " 'queue_time': 0.001208606000000001,\n",
       " 'total_time': 0.927950036}"
      ]
     },
     "execution_count": 17,
     "metadata": {},
     "output_type": "execute_result"
    }
   ],
   "source": [
    "client = Groq(api_key=groq_api_key)\n",
    "response = client.chat.completions.create(\n",
    "    model=\"mixtral-8x7b-32768\",  # \"llama-3.1-70b-versatile\",  # \"llama3-70b-8192\",\n",
    "    messages=MESSAGES,\n",
    "    temperature=0.5,\n",
    "    stream=False,\n",
    ")\n",
    "dict(response.usage)"
   ]
  },
  {
   "cell_type": "code",
   "execution_count": 18,
   "metadata": {},
   "outputs": [
    {
     "name": "stdout",
     "output_type": "stream",
     "text": [
      "To reduce your heart disease risk, consider incorporating these evidence-based strategies from the blog posts:\n",
      "\n",
      "1. **Increase fiber intake**: Fiber-containing foods may help prevent and treat heart disease. Aim for 77 grams of fiber daily, as seen in Uganda, where coronary heart disease was almost nonexistent ([Were We Wrong About Fiber?](https://nutritionfacts.org/blog/were-we-wrong-about-fiber/)).\n",
      "\n",
      "2. **Adopt a plant-based diet**: A vegetarian diet has been shown to lower LDL cholesterol and other atherosclerosis-causing particles more effectively than drugs ([Why Don’t More Doctors Practice Prevention?](https://nutritionfacts.org/blog/why-dont-more-doctors-practice-prevention/)).\n",
      "\n",
      "3. **Limit alcohol consumption**: While small amounts of alcohol may have heart benefits, the risk of breast cancer development increases with alcohol use. Make an informed decision based on your personal health goals ([Breast Cancer and Alcohol: How Much Is Safe?](https://nutritionfacts.org/blog/breast-cancer-alcohol-how-much-is-safe/)).\n",
      "\n",
      "4. **Aim for a low total cholesterol level**: Strong evidence suggests that keeping total cholesterol under 150 mg/dL can help prevent coronary artery disease, our number-one killer ([Moderation Kills](https://nutritionfacts.org/blog/moderation-kills/)).\n",
      "\n",
      "Remember, it's crucial to consult medical professionals for personalized advice and treatment. These suggestions are based on scientific studies and should be considered as part of a comprehensive approach to reducing heart disease risk.\n",
      "\n",
      "Happy healthy living! 😊\n",
      "\n",
      "*Feel free to ask me more questions and share this guide with your friends and family.*\n",
      "\n",
      "*If you find my responses helpful, please consider liking,\n",
      "[following me on social media](https://facebook.com/nutritionfacts.org),\n",
      "or supporting my work at*\n",
      "[*NutritionFacts.org*](https://nutritionfacts.org/donate/)*.*\n",
      "\n",
      "*Yours in health,*\n",
      "\n",
      "*Dr. Greger's Digital Clone*\n"
     ]
    }
   ],
   "source": [
    "# \"gemma2-9b-it\"\n",
    "print(response.choices[0].message.content)"
   ]
  },
  {
   "cell_type": "code",
   "execution_count": 30,
   "metadata": {},
   "outputs": [
    {
     "name": "stdout",
     "output_type": "stream",
     "text": [
      "To reduce your heart disease risk, there are a few things you can do. First, you can make lifestyle changes that can lower your risk by 90%, including changing your diet, losing weight, and exercising. These changes are more effective than taking drugs, which usually only reduce the risk by 20-30%. You can learn more about how to do this by watching my video, \"How Not to Die from Heart Disease.\"\n",
      "\n",
      "Additionally, you can take steps to improve your artery function and lower your LDL cholesterol and other atherosclerosis-causing particles. This can be done through diet and, if necessary, drugs, but a vegetarian diet has been shown to be particularly effective. You can learn more about this in my video, \"Barriers to Heart Disease Prevention.\"\n",
      "\n",
      "It's also important to note that heart disease can be prevented and even reversed, as I discuss in my live annual review presentation, \"More Than an Apple a Day.\"\n",
      "\n",
      "For more information, you can refer to the following blog posts:\n",
      "\n",
      "- How to Eliminate 90 Percent of Heart Disease Risk: <https://nutritionfacts.org/blog/eliminate-90-percent-heart-disease-risk/>\n",
      "- How Not to Die from Heart Disease: <https://nutritionfacts.org/video/how-not-to-die-from-heart-disease/>\n",
      "- Barriers to Heart Disease Prevention: <https://nutritionfacts.org/video/barriers-to-heart-disease-prevention/>\n",
      "- More Than an Apple a Day: <https://nutritionfacts.org/topics/more-than-an-apple-a-day/>\n"
     ]
    }
   ],
   "source": [
    "# \"mixtral-8x7b-32768\"\n",
    "print(response.choices[0].message.content)"
   ]
  },
  {
   "cell_type": "code",
   "execution_count": 27,
   "metadata": {},
   "outputs": [
    {
     "name": "stdout",
     "output_type": "stream",
     "text": [
      "Reducing heart disease risk can be achieved through lifestyle changes. According to my blog post \"How to Eliminate 90 Percent of Heart Disease Risk\" (https://nutritionfacts.org/blog/eliminate-90-percent-heart-disease-risk/), making lifestyle changes can reduce cardiovascular disease risk by 90 percent, compared to pharmacological therapies which typically only reduce risk by 20-30 percent.\n",
      "\n",
      "Additionally, my blog post \"Why Don’t More Doctors Practice Prevention?\" (https://nutritionfacts.org/blog/why-dont-more-doctors-practice-prevention/) suggests that a vegetarian diet can be an effective way to lower LDL cholesterol and other atherosclerosis-causing particles, which can help reduce heart disease risk.\n",
      "\n",
      "It's also important to note that my video \"How Not to Die from Heart Disease\" (mentioned in several of my blog posts, including \"How to Treat High Lp(a), an Atherosclerosis Risk Factor\" https://nutritionfacts.org/blog/how-to-treat-high-lpa-an-atherosclerosis-risk-factor/) provides a comprehensive overview of how to minimize heart disease risk.\n",
      "\n",
      "Remember, it's always best to consult with a medical professional for personalized advice on reducing heart disease risk.\n",
      "\n",
      "Please consult a medical professional for personalized advice.\n"
     ]
    }
   ],
   "source": [
    "# \"llama-3.1-70b-versatile\"\n",
    "print(response.choices[0].message.content)"
   ]
  },
  {
   "cell_type": "code",
   "execution_count": 18,
   "metadata": {},
   "outputs": [
    {
     "name": "stdout",
     "output_type": "stream",
     "text": [
      "Reducing heart disease risk is a crucial topic. According to my blog post \"How to Eliminate 90 Percent of Heart Disease Risk\" (https://nutritionfacts.org/blog/eliminate-90-percent-heart-disease-risk/), lifestyle changes can reduce cardiovascular disease risk by 90 percent, whereas pharmacological therapies typically only reduce risk by 20 to 30 percent.\n",
      "\n",
      "To minimize heart disease risk, I recommend checking out my video \"How Not to Die from Heart Disease\" (mentioned in \"How to Treat High Lp(a), an Atherosclerosis Risk Factor\" https://nutritionfacts.org/blog/how-to-treat-high-lpa-an-atherosclerosis-risk-factor/ and \"How to Improve Artery Function\" https://nutritionfacts.org/blog/how-to-improve-artery-function/).\n",
      "\n",
      "Additionally, a well-planned vegetarian diet, as mentioned in \"Why Don’t More Doctors Practice Prevention?\" (https://nutritionfacts.org/blog/why-dont-more-doctors-practice-prevention/), can be very effective in lowering LDL cholesterol and other atherosclerosis-causing particles.\n",
      "\n",
      "Remember, it's essential to consult with a medical professional for personalized advice on reducing heart disease risk.\n",
      "\n",
      "Please keep in mind that I'm just an AI, and my responses are based on the information available in my knowledge base. If you have any further questions or concerns, don't hesitate to ask!\n"
     ]
    }
   ],
   "source": [
    "# \"llama3-70b-8192\"\n",
    "print(response.choices[0].message.content)"
   ]
  },
  {
   "cell_type": "code",
   "execution_count": 31,
   "metadata": {},
   "outputs": [
    {
     "data": {
      "text/plain": [
       "{'completion_tokens': 392,\n",
       " 'prompt_tokens': 1184,\n",
       " 'total_tokens': 1576,\n",
       " 'completion_time': 0.63370836,\n",
       " 'prompt_time': 0.05226627,\n",
       " 'queue_time': 0.001069259000000003,\n",
       " 'total_time': 0.68597463}"
      ]
     },
     "execution_count": 31,
     "metadata": {},
     "output_type": "execute_result"
    }
   ],
   "source": [
    "dict(response.usage)"
   ]
  },
  {
   "cell_type": "code",
   "execution_count": null,
   "metadata": {},
   "outputs": [],
   "source": []
  }
 ],
 "metadata": {
  "kernelspec": {
   "display_name": "venv",
   "language": "python",
   "name": "python3"
  },
  "language_info": {
   "codemirror_mode": {
    "name": "ipython",
    "version": 3
   },
   "file_extension": ".py",
   "mimetype": "text/x-python",
   "name": "python",
   "nbconvert_exporter": "python",
   "pygments_lexer": "ipython3",
   "version": "3.12.3"
  }
 },
 "nbformat": 4,
 "nbformat_minor": 2
}
