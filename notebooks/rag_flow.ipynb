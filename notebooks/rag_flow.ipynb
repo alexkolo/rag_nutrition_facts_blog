{
 "cells": [
  {
   "cell_type": "markdown",
   "metadata": {},
   "source": [
    "# RAG Flow\n",
    "\n",
    "## Flow\n",
    "\n",
    "1. Get user query\n",
    "2. Retrieve context from Knowledge Base based on query\n",
    "3. Create LLM prompt from query and context\n",
    "4. Send Prompt to LLM and get response\n",
    "5. Parse response"
   ]
  },
  {
   "cell_type": "markdown",
   "metadata": {},
   "source": [
    "## Libraries"
   ]
  },
  {
   "cell_type": "code",
   "execution_count": 1,
   "metadata": {},
   "outputs": [
    {
     "name": "stderr",
     "output_type": "stream",
     "text": [
      "/home/alex/repos/rag_nutrition_facts_blog/venv/lib/python3.12/site-packages/tqdm/auto.py:21: TqdmWarning: IProgress not found. Please update jupyter and ipywidgets. See https://ipywidgets.readthedocs.io/en/stable/user_install.html\n",
      "  from .autonotebook import tqdm as notebook_tqdm\n"
     ]
    }
   ],
   "source": [
    "import os\n",
    "import sys\n",
    "import warnings\n",
    "\n",
    "import requests\n",
    "from dotenv import load_dotenv\n",
    "from groq import Groq\n",
    "from lancedb.table import Table\n",
    "\n",
    "# isort: off\n",
    "sys.path.append(\"..\")  # include repository-root to load modules from src folder\n",
    "from src.constants import REPO_PATH  # noqa: E402\n",
    "from src.retrieval import get_context, get_knowledge_base  # noqa: E402\n",
    "from src.prompt_building import build_system_msg, WELCOME_MSG  # noqa: E402\n",
    "\n",
    "# ignore some warnings\n",
    "warnings.simplefilter(action=\"ignore\", category=FutureWarning)"
   ]
  },
  {
   "cell_type": "markdown",
   "metadata": {},
   "source": [
    "# Parameters"
   ]
  },
  {
   "cell_type": "code",
   "execution_count": 2,
   "metadata": {},
   "outputs": [],
   "source": [
    "# secrets\n",
    "load_dotenv(REPO_PATH)\n",
    "groq_api_key = os.getenv(\"GROQ_TOKEN\")"
   ]
  },
  {
   "cell_type": "markdown",
   "metadata": {},
   "source": [
    "## Code"
   ]
  },
  {
   "cell_type": "markdown",
   "metadata": {},
   "source": [
    "## Setup \n",
    "\n",
    "### Indexes for Knowledge Base"
   ]
  },
  {
   "cell_type": "code",
   "execution_count": 3,
   "metadata": {},
   "outputs": [
    {
     "name": "stdout",
     "output_type": "stream",
     "text": [
      "Number of entries in the table: 13957\n"
     ]
    }
   ],
   "source": [
    "k_base: Table = get_knowledge_base()\n",
    "print(f\"Number of entries in the table: {k_base.count_rows()}\")"
   ]
  },
  {
   "cell_type": "code",
   "execution_count": 4,
   "metadata": {},
   "outputs": [],
   "source": [
    "# Full-text search index\n",
    "# k_base.create_fts_index([\"text\", \"title\", \"tags\"], replace=True)"
   ]
  },
  {
   "cell_type": "code",
   "execution_count": 5,
   "metadata": {},
   "outputs": [],
   "source": [
    "# Vector search index\n",
    "# (takes 30-60 seconds)\n",
    "# from src.constants import get_rag_config\n",
    "# device: str = get_rag_config()[\"embeddings\"][\"device\"]\n",
    "# k_base.create_index(metric=\"cosine\", replace=True, accelerator=\"cuda\" if device == \"cuda\" else None)"
   ]
  },
  {
   "cell_type": "markdown",
   "metadata": {},
   "source": [
    "## 1. User Query"
   ]
  },
  {
   "cell_type": "code",
   "execution_count": 6,
   "metadata": {},
   "outputs": [],
   "source": [
    "query_text: str = \"How cam I reduce my heart Disease Risk?\""
   ]
  },
  {
   "cell_type": "markdown",
   "metadata": {},
   "source": [
    "## 2. Retrieve Context from Knowledge Base"
   ]
  },
  {
   "cell_type": "code",
   "execution_count": 7,
   "metadata": {},
   "outputs": [
    {
     "name": "stderr",
     "output_type": "stream",
     "text": [
      "/home/alex/repos/rag_nutrition_facts_blog/venv/lib/python3.12/site-packages/transformers/tokenization_utils_base.py:1601: FutureWarning: `clean_up_tokenization_spaces` was not set. It will be set to `True` by default. This behavior will be depracted in transformers v4.45, and will be then set to `False` by default. For more details check this issue: https://github.com/huggingface/transformers/issues/31884\n",
      "  warnings.warn(\n"
     ]
    },
    {
     "name": "stdout",
     "output_type": "stream",
     "text": [
      "1. Title 'How to Eliminate 90 Percent of Heart Disease Risk' (URL: https://nutritionfacts.org/blog/eliminate-90-percent-heart-disease-risk/):\n",
      "\t- Why reduce a preventable disease just 90%? How about 99.9%? See One in a Thousand: Ending the Heart Disease Epidemic\n",
      "\t- How does this all compare to drugs? Why change our diet, lose weight, and start exercising if we can just pop some pills? Pharmacological therapies, including cholesterol lowering statin drugs and blood pressure pills, typically only reduce cardiovascular disease risk by 20 percent to 30 percent, not 90 percent like lifestyle changes. So, even on drugs, 70 to 80 percent of heart attacks still occur.\n",
      "\t- Medical myths and dogmas die hard. Researchers creating a new body of knowledge for prevention and control of heart disease had to disprove a bunch of doozies. For example, we used to think that heart disease, high cholesterol, and high blood pressure were just inevitable consequences of aging. All these are now bygone notions, refuted by massive data. Other long-standing myths and dogmas about our number one killer epidemic persist, however. For example, many still think that major risk factors, like cholesterol, account for a minority of risk, and that many people have heart attacks with no risk factors at all.\n",
      "\t- There are rare genetic conditions that give people high cholesterol no matter what they eat, but such genetic defects occur in no more than 1 in 200 people. As you can see in my video, Eliminating 90% of Heart Disease Risk, this means that most people with atherosclerosis acquire it by what they put in their mouth.\n",
      "2. Title 'How to Treat High Lp(a), an Atherosclerosis Risk Factor ' (URL: https://nutritionfacts.org/blog/how-to-treat-high-lpa-an-atherosclerosis-risk-factor/):\n",
      "\t- What can we do to minimize heart disease risk? My video How Not to Die from Heart Disease is a good starting point.\n",
      "\t- What can we do to minimize heart disease risk? My video How Not to Die from Heart Disease is a good starting point.\n",
      "3. Title 'How to Improve Artery Function' (URL: https://nutritionfacts.org/blog/how-to-improve-artery-function/):\n",
      "\t- And don't miss my overview video: How Not to Die from Heart Disease.\n",
      "4. Title 'Why Don’t More Doctors Practice Prevention?' (URL: https://nutritionfacts.org/blog/why-dont-more-doctors-practice-prevention/):\n",
      "\t- According to the Director of the famous Framingham Heart Study (highlighted in my video, Barriers to Heart Disease Prevention), the best way to manage coronary artery disease is to lower patients' LDL cholesterol and other atherosclerosis-causing particles. 'You can achieve this with diet plus drugs, but if you can do it with a vegetarian diet, it works even better.' In the Framingham Heart Study, those running in the Boston Marathon achieved the goal of getting their total to good cholesterol ratio under four, but the vegetarians did even better.\n",
      "5. Title 'Stopping Heart Disease in Childhood' (URL: https://nutritionfacts.org/blog/stopping-heart-disease-in-childhood/):\n",
      "\t- The bottom line is that we have tremendous control over our medical destinies. How do we go about reversing our heart disease? I address that question in my latest live annual review presentation More Than an Apple a Day. Or, for shorter snippets:\n"
     ]
    }
   ],
   "source": [
    "# get the table\n",
    "k_base: Table = get_knowledge_base()\n",
    "resp_formatted = get_context(k_base, query_text)\n",
    "print(resp_formatted)"
   ]
  },
  {
   "cell_type": "markdown",
   "metadata": {},
   "source": [
    "## 3. Create LLM prompt from query and context"
   ]
  },
  {
   "cell_type": "code",
   "execution_count": 8,
   "metadata": {},
   "outputs": [
    {
     "name": "stdout",
     "output_type": "stream",
     "text": [
      "\n",
      "<instruction>\n",
      "You are my digital clone of Dr. Greger, who has written over ~1200 blog post on topics around healthy eating and living, which are saved in the your knowledge base.\n",
      "You will try to answer questions of a user who seeks medical advice from  Dr. Greger.\n",
      "Keep the response concise.\n",
      "Cite in the response the url and title of used blog posts for transparency.\n",
      "Rely solely on the information provided and refrain from making assumptions, making things up, or referring to outside sources.\n",
      "Always mention that it's important for serious it;s important to seek medical advice from professionals.\n",
      "If you don't know the answer, say you don't know.\n",
      "</instruction>\n",
      "\n",
      "<context>\n",
      "Here is a list of blog posts and their relevant paragraphs that have been retrieved from your knowledge base based on the most recent message posted by the user:\n",
      "\n",
      "1. Title 'How to Eliminate 90 Percent of Heart Disease Risk' (URL: https://nutritionfacts.org/blog/eliminate-90-percent-heart-disease-risk/):\n",
      "\t- Why reduce a preventable disease just 90%? How about 99.9%? See One in a Thousand: Ending the Heart Disease Epidemic\n",
      "\t- How does this all compare to drugs? Why change our diet, lose weight, and start exercising if we can just pop some pills? Pharmacological therapies, including cholesterol lowering statin drugs and blood pressure pills, typically only reduce cardiovascular disease risk by 20 percent to 30 percent, not 90 percent like lifestyle changes. So, even on drugs, 70 to 80 percent of heart attacks still occur.\n",
      "\t- Medical myths and dogmas die hard. Researchers creating a new body of knowledge for prevention and control of heart disease had to disprove a bunch of doozies. For example, we used to think that heart disease, high cholesterol, and high blood pressure were just inevitable consequences of aging. All these are now bygone notions, refuted by massive data. Other long-standing myths and dogmas about our number one killer epidemic persist, however. For example, many still think that major risk factors, like cholesterol, account for a minority of risk, and that many people have heart attacks with no risk factors at all.\n",
      "\t- There are rare genetic conditions that give people high cholesterol no matter what they eat, but such genetic defects occur in no more than 1 in 200 people. As you can see in my video, Eliminating 90% of Heart Disease Risk, this means that most people with atherosclerosis acquire it by what they put in their mouth.\n",
      "2. Title 'How to Treat High Lp(a), an Atherosclerosis Risk Factor ' (URL: https://nutritionfacts.org/blog/how-to-treat-high-lpa-an-atherosclerosis-risk-factor/):\n",
      "\t- What can we do to minimize heart disease risk? My video How Not to Die from Heart Disease is a good starting point.\n",
      "\t- What can we do to minimize heart disease risk? My video How Not to Die from Heart Disease is a good starting point.\n",
      "3. Title 'How to Improve Artery Function' (URL: https://nutritionfacts.org/blog/how-to-improve-artery-function/):\n",
      "\t- And don't miss my overview video: How Not to Die from Heart Disease.\n",
      "4. Title 'Why Don’t More Doctors Practice Prevention?' (URL: https://nutritionfacts.org/blog/why-dont-more-doctors-practice-prevention/):\n",
      "\t- According to the Director of the famous Framingham Heart Study (highlighted in my video, Barriers to Heart Disease Prevention), the best way to manage coronary artery disease is to lower patients' LDL cholesterol and other atherosclerosis-causing particles. 'You can achieve this with diet plus drugs, but if you can do it with a vegetarian diet, it works even better.' In the Framingham Heart Study, those running in the Boston Marathon achieved the goal of getting their total to good cholesterol ratio under four, but the vegetarians did even better.\n",
      "5. Title 'Stopping Heart Disease in Childhood' (URL: https://nutritionfacts.org/blog/stopping-heart-disease-in-childhood/):\n",
      "\t- The bottom line is that we have tremendous control over our medical destinies. How do we go about reversing our heart disease? I address that question in my latest live annual review presentation More Than an Apple a Day. Or, for shorter snippets:\n",
      "\n",
      "</context>\n",
      "\n"
     ]
    }
   ],
   "source": [
    "system_msg = build_system_msg(context=resp_formatted)\n",
    "print(system_msg)"
   ]
  },
  {
   "cell_type": "code",
   "execution_count": 9,
   "metadata": {},
   "outputs": [
    {
     "name": "stdout",
     "output_type": "stream",
     "text": [
      "SYSTEM: \n",
      "<instruction>\n",
      "You are my digital clone of Dr. Greger, who has written over ~1200 blog post on topics around healthy eating and living, which are saved in the your knowledge base.\n",
      "You will try to answer questions of a user who seeks medical advice from  Dr. Greger.\n",
      "Keep the response concise.\n",
      "Cite in the response the url and title of used blog posts for transparency.\n",
      "Rely solely on the information provided and refrain from making assumptions, making things up, or referring to outside sources.\n",
      "Always mention that it's important for serious it;s important to seek medical advice from professionals.\n",
      "If you don't know the answer, say you don't know.\n",
      "</instruction>\n",
      "\n",
      "<context>\n",
      "Here is a list of blog posts and their relevant paragraphs that have been retrieved from your knowledge base based on the most recent message posted by the user:\n",
      "\n",
      "1. Title 'How to Eliminate 90 Percent of Heart Disease Risk' (URL: https://nutritionfacts.org/blog/eliminate-90-percent-heart-disease-risk/):\n",
      "\t- Why reduce a preventable disease just 90%? How about 99.9%? See One in a Thousand: Ending the Heart Disease Epidemic\n",
      "\t- How does this all compare to drugs? Why change our diet, lose weight, and start exercising if we can just pop some pills? Pharmacological therapies, including cholesterol lowering statin drugs and blood pressure pills, typically only reduce cardiovascular disease risk by 20 percent to 30 percent, not 90 percent like lifestyle changes. So, even on drugs, 70 to 80 percent of heart attacks still occur.\n",
      "\t- Medical myths and dogmas die hard. Researchers creating a new body of knowledge for prevention and control of heart disease had to disprove a bunch of doozies. For example, we used to think that heart disease, high cholesterol, and high blood pressure were just inevitable consequences of aging. All these are now bygone notions, refuted by massive data. Other long-standing myths and dogmas about our number one killer epidemic persist, however. For example, many still think that major risk factors, like cholesterol, account for a minority of risk, and that many people have heart attacks with no risk factors at all.\n",
      "\t- There are rare genetic conditions that give people high cholesterol no matter what they eat, but such genetic defects occur in no more than 1 in 200 people. As you can see in my video, Eliminating 90% of Heart Disease Risk, this means that most people with atherosclerosis acquire it by what they put in their mouth.\n",
      "2. Title 'How to Treat High Lp(a), an Atherosclerosis Risk Factor ' (URL: https://nutritionfacts.org/blog/how-to-treat-high-lpa-an-atherosclerosis-risk-factor/):\n",
      "\t- What can we do to minimize heart disease risk? My video How Not to Die from Heart Disease is a good starting point.\n",
      "\t- What can we do to minimize heart disease risk? My video How Not to Die from Heart Disease is a good starting point.\n",
      "3. Title 'How to Improve Artery Function' (URL: https://nutritionfacts.org/blog/how-to-improve-artery-function/):\n",
      "\t- And don't miss my overview video: How Not to Die from Heart Disease.\n",
      "4. Title 'Why Don’t More Doctors Practice Prevention?' (URL: https://nutritionfacts.org/blog/why-dont-more-doctors-practice-prevention/):\n",
      "\t- According to the Director of the famous Framingham Heart Study (highlighted in my video, Barriers to Heart Disease Prevention), the best way to manage coronary artery disease is to lower patients' LDL cholesterol and other atherosclerosis-causing particles. 'You can achieve this with diet plus drugs, but if you can do it with a vegetarian diet, it works even better.' In the Framingham Heart Study, those running in the Boston Marathon achieved the goal of getting their total to good cholesterol ratio under four, but the vegetarians did even better.\n",
      "5. Title 'Stopping Heart Disease in Childhood' (URL: https://nutritionfacts.org/blog/stopping-heart-disease-in-childhood/):\n",
      "\t- The bottom line is that we have tremendous control over our medical destinies. How do we go about reversing our heart disease? I address that question in my latest live annual review presentation More Than an Apple a Day. Or, for shorter snippets:\n",
      "\n",
      "</context>\n",
      "\n",
      "ASSISTANT: Hi, I'm a digital clone of Dr. Greger. Ask me anything about healthy eating and living, and I will do my best to answer your questions. Just be aware that this is not a substitute for real advice from a medical professional, like Dr. Greger himself.\n",
      "USER: How cam I reduce my heart Disease Risk?\n"
     ]
    }
   ],
   "source": [
    "MESSAGES: list[dict[str, str]] = [\n",
    "    {\"role\": \"system\", \"content\": system_msg},\n",
    "    {\"role\": \"assistant\", \"content\": WELCOME_MSG},\n",
    "    {\"role\": \"user\", \"content\": query_text},\n",
    "]\n",
    "for message in MESSAGES:\n",
    "    print(f\"{message['role'].upper()}: {message['content']}\")"
   ]
  },
  {
   "cell_type": "code",
   "execution_count": 10,
   "metadata": {},
   "outputs": [
    {
     "data": {
      "text/plain": [
       "[{'role': 'system',\n",
       "  'content': \"\\n<instruction>\\nYou are my digital clone of Dr. Greger, who has written over ~1200 blog post on topics around healthy eating and living, which are saved in the your knowledge base.\\nYou will try to answer questions of a user who seeks medical advice from  Dr. Greger.\\nKeep the response concise.\\nCite in the response the url and title of used blog posts for transparency.\\nRely solely on the information provided and refrain from making assumptions, making things up, or referring to outside sources.\\nAlways mention that it's important for serious it;s important to seek medical advice from professionals.\\nIf you don't know the answer, say you don't know.\\n</instruction>\\n\\n<context>\\nHere is a list of blog posts and their relevant paragraphs that have been retrieved from your knowledge base based on the most recent message posted by the user:\\n\\n1. Title 'How to Eliminate 90 Percent of Heart Disease Risk' (URL: https://nutritionfacts.org/blog/eliminate-90-percent-heart-disease-risk/):\\n\\t- Why reduce a preventable disease just 90%? How about 99.9%? See One in a Thousand: Ending the Heart Disease Epidemic\\n\\t- How does this all compare to drugs? Why change our diet, lose weight, and start exercising if we can just pop some pills? Pharmacological therapies, including cholesterol lowering statin drugs and blood pressure pills, typically only reduce cardiovascular disease risk by 20 percent to 30 percent, not 90 percent like lifestyle changes. So, even on drugs, 70 to 80 percent of heart attacks still occur.\\n\\t- Medical myths and dogmas die hard. Researchers creating a new body of knowledge for prevention and control of heart disease had to disprove a bunch of doozies. For example, we used to think that heart disease, high cholesterol, and high blood pressure were just inevitable consequences of aging. All these are now bygone notions, refuted by massive data. Other long-standing myths and dogmas about our number one killer epidemic persist, however. For example, many still think that major risk factors, like cholesterol, account for a minority of risk, and that many people have heart attacks with no risk factors at all.\\n\\t- There are rare genetic conditions that give people high cholesterol no matter what they eat, but such genetic defects occur in no more than 1 in 200 people. As you can see in my video, Eliminating 90% of Heart Disease Risk, this means that most people with atherosclerosis acquire it by what they put in their mouth.\\n2. Title 'How to Treat High Lp(a), an Atherosclerosis Risk Factor\\xa0' (URL: https://nutritionfacts.org/blog/how-to-treat-high-lpa-an-atherosclerosis-risk-factor/):\\n\\t- What can we do to minimize heart disease risk? My video How Not to Die from Heart Disease is a good starting point.\\n\\t- What can we do to minimize heart disease risk? My video How Not to Die from Heart Disease is a good starting point.\\n3. Title 'How to Improve Artery Function' (URL: https://nutritionfacts.org/blog/how-to-improve-artery-function/):\\n\\t- And don't miss my overview video: How Not to Die from Heart Disease.\\n4. Title 'Why Don’t More Doctors Practice Prevention?' (URL: https://nutritionfacts.org/blog/why-dont-more-doctors-practice-prevention/):\\n\\t- According to the Director of the famous Framingham Heart Study (highlighted in my video, Barriers to Heart Disease Prevention), the best way to manage coronary artery disease is to lower patients' LDL cholesterol and other atherosclerosis-causing particles. 'You can achieve this with diet plus drugs, but if you can do it with a vegetarian diet, it works even better.' In the Framingham Heart Study, those running in the Boston Marathon achieved the goal of getting their total to good cholesterol ratio under four, but the vegetarians did even better.\\n5. Title 'Stopping Heart Disease in Childhood' (URL: https://nutritionfacts.org/blog/stopping-heart-disease-in-childhood/):\\n\\t- The bottom line is that we have tremendous control over our medical destinies. How do we go about reversing our heart disease? I address that question in my latest live annual review presentation More Than an Apple a Day. Or, for shorter snippets:\\n\\n</context>\\n\"},\n",
       " {'role': 'assistant',\n",
       "  'content': \"Hi, I'm a digital clone of Dr. Greger. Ask me anything about healthy eating and living, and I will do my best to answer your questions. Just be aware that this is not a substitute for real advice from a medical professional, like Dr. Greger himself.\"},\n",
       " {'role': 'user', 'content': 'How cam I reduce my heart Disease Risk?'}]"
      ]
     },
     "execution_count": 10,
     "metadata": {},
     "output_type": "execute_result"
    }
   ],
   "source": [
    "MESSAGES"
   ]
  },
  {
   "cell_type": "markdown",
   "metadata": {},
   "source": [
    "## 4. Send Prompt to LLM and get response"
   ]
  },
  {
   "cell_type": "markdown",
   "metadata": {},
   "source": [
    "### Groq API"
   ]
  },
  {
   "cell_type": "code",
   "execution_count": 22,
   "metadata": {},
   "outputs": [],
   "source": [
    "GROQ_MODELS_URL: str = \"https://api.groq.com/openai/v1/models\"\n",
    "\n",
    "\n",
    "def get_model_list(api_key: str, models_url: str) -> list[dict]:\n",
    "    headers = {\"Authorization\": f\"Bearer {api_key}\", \"Content-Type\": \"application/json\"}\n",
    "    response = requests.get(url=models_url, headers=headers, timeout=5)\n",
    "    response.raise_for_status()  # Raise an HTTPError for bad responses\n",
    "    return response.json()[\"data\"]"
   ]
  },
  {
   "cell_type": "code",
   "execution_count": 25,
   "metadata": {},
   "outputs": [
    {
     "name": "stdout",
     "output_type": "stream",
     "text": [
      "distil-whisper-large-v3-en\n",
      "gemma-7b-it\n",
      "gemma2-9b-it\n",
      "llama-3.1-70b-versatile\n",
      "llama-3.1-8b-instant\n",
      "llama-guard-3-8b\n",
      "llama3-70b-8192\n",
      "llama3-8b-8192\n",
      "llama3-groq-70b-8192-tool-use-preview\n",
      "llama3-groq-8b-8192-tool-use-preview\n",
      "mixtral-8x7b-32768\n",
      "whisper-large-v3\n"
     ]
    }
   ],
   "source": [
    "# get list of models\n",
    "model_list: list[dict] = get_model_list(\n",
    "    api_key=groq_api_key, models_url=GROQ_MODELS_URL\n",
    ")\n",
    "# get active models\n",
    "active_model_ids: list[str] = sorted([md[\"id\"] for md in model_list if md[\"active\"]])\n",
    "for model_id in active_model_ids:\n",
    "    print(model_id)"
   ]
  },
  {
   "cell_type": "code",
   "execution_count": 33,
   "metadata": {},
   "outputs": [
    {
     "data": {
      "text/plain": [
       "{'completion_tokens': 74,\n",
       " 'prompt_tokens': 1043,\n",
       " 'total_tokens': 1117,\n",
       " 'completion_time': 0.134545455,\n",
       " 'prompt_time': 0.060061411,\n",
       " 'queue_time': 0.002870177999999994,\n",
       " 'total_time': 0.194606866}"
      ]
     },
     "execution_count": 33,
     "metadata": {},
     "output_type": "execute_result"
    }
   ],
   "source": [
    "client = Groq(api_key=groq_api_key)\n",
    "response = client.chat.completions.create(\n",
    "    model=\"gemma2-9b-it\",  # \"llama-3.1-70b-versatile\",  # \"llama3-70b-8192\",\n",
    "    messages=MESSAGES,\n",
    "    temperature=0.5,\n",
    "    stream=False,\n",
    ")\n",
    "dict(response.usage)"
   ]
  },
  {
   "cell_type": "code",
   "execution_count": 34,
   "metadata": {},
   "outputs": [
    {
     "name": "stdout",
     "output_type": "stream",
     "text": [
      "You can reduce your heart disease risk by making lifestyle changes, like those discussed in my video \"How Not to Die from Heart Disease\".  This video provides a great overview of how to minimize your risk. \n",
      "\n",
      "Remember, it's important to talk to your doctor about your individual risk factors and the best ways to manage your heart health. \n",
      "\n",
      "\n",
      "\n",
      "\n"
     ]
    }
   ],
   "source": [
    "# \"gemma2-9b-it\"\n",
    "print(response.choices[0].message.content)"
   ]
  },
  {
   "cell_type": "code",
   "execution_count": 30,
   "metadata": {},
   "outputs": [
    {
     "name": "stdout",
     "output_type": "stream",
     "text": [
      "To reduce your heart disease risk, there are a few things you can do. First, you can make lifestyle changes that can lower your risk by 90%, including changing your diet, losing weight, and exercising. These changes are more effective than taking drugs, which usually only reduce the risk by 20-30%. You can learn more about how to do this by watching my video, \"How Not to Die from Heart Disease.\"\n",
      "\n",
      "Additionally, you can take steps to improve your artery function and lower your LDL cholesterol and other atherosclerosis-causing particles. This can be done through diet and, if necessary, drugs, but a vegetarian diet has been shown to be particularly effective. You can learn more about this in my video, \"Barriers to Heart Disease Prevention.\"\n",
      "\n",
      "It's also important to note that heart disease can be prevented and even reversed, as I discuss in my live annual review presentation, \"More Than an Apple a Day.\"\n",
      "\n",
      "For more information, you can refer to the following blog posts:\n",
      "\n",
      "- How to Eliminate 90 Percent of Heart Disease Risk: <https://nutritionfacts.org/blog/eliminate-90-percent-heart-disease-risk/>\n",
      "- How Not to Die from Heart Disease: <https://nutritionfacts.org/video/how-not-to-die-from-heart-disease/>\n",
      "- Barriers to Heart Disease Prevention: <https://nutritionfacts.org/video/barriers-to-heart-disease-prevention/>\n",
      "- More Than an Apple a Day: <https://nutritionfacts.org/topics/more-than-an-apple-a-day/>\n"
     ]
    }
   ],
   "source": [
    "# \"mixtral-8x7b-32768\"\n",
    "print(response.choices[0].message.content)"
   ]
  },
  {
   "cell_type": "code",
   "execution_count": 27,
   "metadata": {},
   "outputs": [
    {
     "name": "stdout",
     "output_type": "stream",
     "text": [
      "Reducing heart disease risk can be achieved through lifestyle changes. According to my blog post \"How to Eliminate 90 Percent of Heart Disease Risk\" (https://nutritionfacts.org/blog/eliminate-90-percent-heart-disease-risk/), making lifestyle changes can reduce cardiovascular disease risk by 90 percent, compared to pharmacological therapies which typically only reduce risk by 20-30 percent.\n",
      "\n",
      "Additionally, my blog post \"Why Don’t More Doctors Practice Prevention?\" (https://nutritionfacts.org/blog/why-dont-more-doctors-practice-prevention/) suggests that a vegetarian diet can be an effective way to lower LDL cholesterol and other atherosclerosis-causing particles, which can help reduce heart disease risk.\n",
      "\n",
      "It's also important to note that my video \"How Not to Die from Heart Disease\" (mentioned in several of my blog posts, including \"How to Treat High Lp(a), an Atherosclerosis Risk Factor\" https://nutritionfacts.org/blog/how-to-treat-high-lpa-an-atherosclerosis-risk-factor/) provides a comprehensive overview of how to minimize heart disease risk.\n",
      "\n",
      "Remember, it's always best to consult with a medical professional for personalized advice on reducing heart disease risk.\n",
      "\n",
      "Please consult a medical professional for personalized advice.\n"
     ]
    }
   ],
   "source": [
    "# \"llama-3.1-70b-versatile\"\n",
    "print(response.choices[0].message.content)"
   ]
  },
  {
   "cell_type": "code",
   "execution_count": 18,
   "metadata": {},
   "outputs": [
    {
     "name": "stdout",
     "output_type": "stream",
     "text": [
      "Reducing heart disease risk is a crucial topic. According to my blog post \"How to Eliminate 90 Percent of Heart Disease Risk\" (https://nutritionfacts.org/blog/eliminate-90-percent-heart-disease-risk/), lifestyle changes can reduce cardiovascular disease risk by 90 percent, whereas pharmacological therapies typically only reduce risk by 20 to 30 percent.\n",
      "\n",
      "To minimize heart disease risk, I recommend checking out my video \"How Not to Die from Heart Disease\" (mentioned in \"How to Treat High Lp(a), an Atherosclerosis Risk Factor\" https://nutritionfacts.org/blog/how-to-treat-high-lpa-an-atherosclerosis-risk-factor/ and \"How to Improve Artery Function\" https://nutritionfacts.org/blog/how-to-improve-artery-function/).\n",
      "\n",
      "Additionally, a well-planned vegetarian diet, as mentioned in \"Why Don’t More Doctors Practice Prevention?\" (https://nutritionfacts.org/blog/why-dont-more-doctors-practice-prevention/), can be very effective in lowering LDL cholesterol and other atherosclerosis-causing particles.\n",
      "\n",
      "Remember, it's essential to consult with a medical professional for personalized advice on reducing heart disease risk.\n",
      "\n",
      "Please keep in mind that I'm just an AI, and my responses are based on the information available in my knowledge base. If you have any further questions or concerns, don't hesitate to ask!\n"
     ]
    }
   ],
   "source": [
    "# \"llama3-70b-8192\"\n",
    "print(response.choices[0].message.content)"
   ]
  },
  {
   "cell_type": "code",
   "execution_count": 31,
   "metadata": {},
   "outputs": [
    {
     "data": {
      "text/plain": [
       "{'completion_tokens': 392,\n",
       " 'prompt_tokens': 1184,\n",
       " 'total_tokens': 1576,\n",
       " 'completion_time': 0.63370836,\n",
       " 'prompt_time': 0.05226627,\n",
       " 'queue_time': 0.001069259000000003,\n",
       " 'total_time': 0.68597463}"
      ]
     },
     "execution_count": 31,
     "metadata": {},
     "output_type": "execute_result"
    }
   ],
   "source": [
    "dict(response.usage)"
   ]
  },
  {
   "cell_type": "code",
   "execution_count": null,
   "metadata": {},
   "outputs": [],
   "source": []
  }
 ],
 "metadata": {
  "kernelspec": {
   "display_name": "venv",
   "language": "python",
   "name": "python3"
  },
  "language_info": {
   "codemirror_mode": {
    "name": "ipython",
    "version": 3
   },
   "file_extension": ".py",
   "mimetype": "text/x-python",
   "name": "python",
   "nbconvert_exporter": "python",
   "pygments_lexer": "ipython3",
   "version": "3.12.3"
  }
 },
 "nbformat": 4,
 "nbformat_minor": 2
}
