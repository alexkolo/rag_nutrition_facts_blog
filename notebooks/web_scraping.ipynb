{
 "cells": [
  {
   "cell_type": "markdown",
   "metadata": {},
   "source": [
    "# Scraping Blog Posts off `nutritionfacts.org`"
   ]
  },
  {
   "cell_type": "markdown",
   "metadata": {},
   "source": [
    "## Libraries"
   ]
  },
  {
   "cell_type": "code",
   "execution_count": 123,
   "metadata": {},
   "outputs": [],
   "source": [
    "import json\n",
    "from bs4 import BeautifulSoup\n",
    "import requests\n",
    "import time\n",
    "from pathlib import Path\n",
    "from tqdm import tqdm"
   ]
  },
  {
   "cell_type": "markdown",
   "metadata": {},
   "source": [
    "## Functions"
   ]
  },
  {
   "cell_type": "code",
   "execution_count": 169,
   "metadata": {},
   "outputs": [],
   "source": [
    "\n",
    "def get_webpage_content(url) -> requests.Response | None:\n",
    "    try:\n",
    "        response = requests.get(url, headers={\"User-Agent\": \"Mozilla/5.0\"})\n",
    "        response.raise_for_status()\n",
    "    except requests.exceptions.RequestException as e:\n",
    "        print(f\"Error: {e}\")\n",
    "        return None\n",
    "\n",
    "    return response\n",
    "\n",
    "def filter_links(links: list[str], root: str) -> list[str]:\n",
    "    filtered_links: list[str] = []\n",
    "    for href in links:\n",
    "        if not href.startswith(root):\n",
    "            continue\n",
    "        link_tail: str = href.replace(root, \"\")\n",
    "        if link_tail and not link_tail.startswith(\"page\"):\n",
    "            filtered_links.append(href)\n",
    "\n",
    "    return filtered_links\n",
    "\n",
    "def extract_all_urls(root: str, page_stop: int | None = None ) -> list[str]:\n",
    "    # collect all the blog posts urls\n",
    "    i_page: int = 0\n",
    "    url_list: list[str] = []\n",
    "    while True:\n",
    "        time.sleep(0.2) # wait a bit to avoid being blocked\n",
    "        i_page += 1\n",
    "        # for debug only\n",
    "        if page_stop is not None and i_page > page_stop:\n",
    "            break\n",
    "\n",
    "        if i_page == 1:\n",
    "            page_url = root\n",
    "        else:\n",
    "            page_url = f\"{root}page/{i_page}/\"\n",
    "        print(f\"{i_page}. Page URL: {page_url}\")\n",
    "\n",
    "        # get the HTML content\n",
    "        response = get_webpage_content(page_url)\n",
    "        if response is None:\n",
    "            break\n",
    "\n",
    "        # Parse the HTML content\n",
    "        soup = BeautifulSoup(response.content, \"html.parser\")\n",
    "\n",
    "        # get all links on the page\n",
    "        links: list[str] = sorted({link[\"href\"] for link in soup.find_all(\"a\", href=True)})\n",
    "\n",
    "        # filter the links\n",
    "        blog_posts_of_page: list[str] = filter_links(links, root)\n",
    "        n_posts: int = len(blog_posts_of_page)\n",
    "        print(f\"\\t Number of blog posts: {n_posts}\")\n",
    "        # page needs at least 2 posts to be considered, otherwise it's at the last page\n",
    "        if n_posts < 2:\n",
    "            break\n",
    "        url_list.extend( blog_posts_of_page )\n",
    "\n",
    "    return url_list\n",
    "\n",
    "def replace_strange_chars(text: str) -> str:\n",
    "    # Create a dictionary for replacements to make the code more scalable\n",
    "    replacements = {     \"“\": \"'\", \"”\": \"'\", \"’\": \"'\", \"‘\": \"'\", \"…\": \"...\", \"—\": \"-\" }\n",
    "    return text.translate(str.maketrans(replacements))\n",
    "\n",
    "def get_meta_data(soup: BeautifulSoup) -> dict:\n",
    "    meta_data = {\n",
    "        \"title\" : soup.find('h1', class_='entry-title').get_text(),\n",
    "        \"created\" : soup.find('time', class_='updated')['datetime'],\n",
    "        \"updated\" : soup.find_all('time')[1]['datetime'],\n",
    "    }\n",
    "    return meta_data\n",
    "\n",
    "def get_paragraphs(soup: BeautifulSoup) -> list[str]:\n",
    "    paragraphs_html: list = soup.find_all(\"p\", class_='p1')\n",
    "    if not paragraphs_html:\n",
    "        paragraphs_html = soup.find_all(\"p\")\n",
    "\n",
    "    # Extract and clean paragraphs while excluding those that start with certain phrases\n",
    "    paragraphs_raw: list[str] = [para_html.get_text().strip() for para_html in paragraphs_html]\n",
    "    exclude_startswith: list[str] = [\"Written By\",\"Image Credit\",\"In health\",\"Michael Greger\",\"PS:\",\"A founding member\",\"Subscribe\",\"Catch up\",\"Charity ID\",\"We  our volunteers!\",\"Interested in learning more about\",\"Check out:\"]\n",
    "    # Create clean list\n",
    "    paragraphs_clean: list[str] = [\n",
    "        replace_strange_chars(para_raw)\n",
    "        for para_raw in paragraphs_raw\n",
    "        if para_raw and not any(para_raw.startswith(prefix) for prefix in exclude_startswith)\n",
    "    ]\n",
    "    return paragraphs_clean\n",
    "\n",
    "def get_key_takeaways(soup: BeautifulSoup) -> list[str]:\n",
    "    key_takeaways_heading = soup.find('p', string=\"KEY TAKEAWAYS\")\n",
    "    if key_takeaways_heading is None:\n",
    "       return []\n",
    "\n",
    "    # Find the next <ul> element after the \"KEY TAKEAWAYS\" heading\n",
    "    key_takeaways_list = key_takeaways_heading.find_next('ul')\n",
    "\n",
    "    # Extract the text from each <li> in the list\n",
    "    return [replace_strange_chars(li.get_text().strip()) for li in key_takeaways_list.find_all('li')]"
   ]
  },
  {
   "cell_type": "markdown",
   "metadata": {},
   "source": [
    "# Parameters"
   ]
  },
  {
   "cell_type": "code",
   "execution_count": 174,
   "metadata": {},
   "outputs": [
    {
     "data": {
      "text/plain": [
       "True"
      ]
     },
     "execution_count": 174,
     "metadata": {},
     "output_type": "execute_result"
    }
   ],
   "source": [
    "data_path = Path(\".\").resolve().parent / \"data\"\n",
    "data_path.is_dir() # fails if it doesn't exist\n",
    "blog_posts_root: Path = data_path / \"blog_posts\"\n",
    "post_path_raw: Path = blog_posts_root / \"raw_txt\"\n",
    "post_path_raw.is_dir() # fails if it doesn't exist\n",
    "post_path_json: Path = blog_posts_root / \"json\"\n",
    "post_path_json.is_dir() # fails if it doesn't exist"
   ]
  },
  {
   "cell_type": "code",
   "execution_count": 54,
   "metadata": {},
   "outputs": [],
   "source": [
    "root_url: str = \"https://nutritionfacts.org/blog/\"\n",
    "file_url_list: Path = blog_posts_root / \"blog_posts.csv\""
   ]
  },
  {
   "cell_type": "markdown",
   "metadata": {},
   "source": [
    "# Code"
   ]
  },
  {
   "cell_type": "markdown",
   "metadata": {},
   "source": [
    "## Testing connection"
   ]
  },
  {
   "cell_type": "code",
   "execution_count": null,
   "metadata": {},
   "outputs": [],
   "source": [
    "response = get_webpage_content(root_url)"
   ]
  },
  {
   "cell_type": "code",
   "execution_count": null,
   "metadata": {},
   "outputs": [],
   "source": [
    "# Parse the HTML content\n",
    "soup = BeautifulSoup(response.content, \"html.parser\")"
   ]
  },
  {
   "cell_type": "code",
   "execution_count": null,
   "metadata": {},
   "outputs": [],
   "source": [
    "# Find all links on the page\n",
    "links: set[str] = sorted({link[\"href\"] for link in soup.find_all(\"a\", href=True)})\n",
    "print(\"Number of links:\", len(links))"
   ]
  },
  {
   "cell_type": "code",
   "execution_count": null,
   "metadata": {},
   "outputs": [],
   "source": [
    "# filter the links\n",
    "blog_posts_of_page: list[str] = filter_links(links, root_url)\n",
    "n_posts: int = len(blog_posts_of_page)\n",
    "print(f\"Number of blog posts: {n_posts}\")"
   ]
  },
  {
   "cell_type": "markdown",
   "metadata": {},
   "source": [
    "## Extract urls of all blog posts"
   ]
  },
  {
   "cell_type": "code",
   "execution_count": null,
   "metadata": {},
   "outputs": [],
   "source": [
    "urls_list: list[str] = extract_all_urls(root=root_url, page_stop = None )"
   ]
  },
  {
   "cell_type": "code",
   "execution_count": null,
   "metadata": {},
   "outputs": [],
   "source": [
    "blog_post_urls_set = set(urls_list)\n",
    "print(\"Number of unique blog posts:\", len(blog_post_urls_set))\n",
    "# Number of blog posts: 1285"
   ]
  },
  {
   "cell_type": "code",
   "execution_count": null,
   "metadata": {},
   "outputs": [],
   "source": [
    "# post processing\n",
    "for url in list(blog_post_urls_set): # create a copy of the set\n",
    "    link_tail: str = url.replace(root_url, \"\").replace(\"/\", \"\")\n",
    "    # remove some urls that are not blog posts\n",
    "    if link_tail.isdigit():\n",
    "        print(url)\n",
    "        blog_post_urls_set.remove(url)\n",
    "print(\"Number of unique blog posts:\", len(blog_post_urls_set))\n",
    "# Number of unique blog posts: 1281"
   ]
  },
  {
   "cell_type": "code",
   "execution_count": null,
   "metadata": {},
   "outputs": [],
   "source": [
    "# export to csv file\n",
    "with open(blog_posts_root / file_url_list, \"w\") as f:\n",
    "    for url in sorted(blog_post_urls_set):\n",
    "        f.write(f\"{url}\\n\")"
   ]
  },
  {
   "cell_type": "markdown",
   "metadata": {},
   "source": [
    "## Extract content of each blog post"
   ]
  },
  {
   "cell_type": "code",
   "execution_count": 55,
   "metadata": {},
   "outputs": [],
   "source": [
    "# read from csv file\n",
    "with open(blog_posts_root / file_url_list, \"r\") as f:\n",
    "    urls_list: list[str] = f.read().splitlines()"
   ]
  },
  {
   "cell_type": "markdown",
   "metadata": {},
   "source": [
    "### Testing"
   ]
  },
  {
   "cell_type": "code",
   "execution_count": 144,
   "metadata": {},
   "outputs": [
    {
     "data": {
      "text/plain": [
       "'after-marijuana-legalization-did-opioid-overdoses-go-up-stay-the-same-or-go-down'"
      ]
     },
     "execution_count": 144,
     "metadata": {},
     "output_type": "execute_result"
    }
   ],
   "source": [
    "blog_post_url = urls_list[25]\n",
    "url_tail = blog_post_url.replace(root_url, \"\").replace(\"/\", \"\")\n",
    "url_tail"
   ]
  },
  {
   "cell_type": "code",
   "execution_count": 145,
   "metadata": {},
   "outputs": [
    {
     "data": {
      "text/plain": [
       "'https://nutritionfacts.org/blog/after-marijuana-legalization-did-opioid-overdoses-go-up-stay-the-same-or-go-down/'"
      ]
     },
     "execution_count": 145,
     "metadata": {},
     "output_type": "execute_result"
    }
   ],
   "source": [
    "blog_post_url"
   ]
  },
  {
   "cell_type": "code",
   "execution_count": 146,
   "metadata": {},
   "outputs": [],
   "source": [
    "response = get_webpage_content(blog_post_url)\n",
    "# Parse the HTML content\n",
    "soup = BeautifulSoup(response.content, \"html.parser\")"
   ]
  },
  {
   "cell_type": "code",
   "execution_count": 147,
   "metadata": {},
   "outputs": [],
   "source": [
    "# write to file\n",
    "with open(f\"{url_tail}.html\", \"w\") as f:\n",
    "    f.write(str(soup))"
   ]
  },
  {
   "cell_type": "markdown",
   "metadata": {},
   "source": [
    "#### pure content"
   ]
  },
  {
   "cell_type": "code",
   "execution_count": 148,
   "metadata": {},
   "outputs": [
    {
     "data": {
      "text/plain": [
       "[<p class=\"p1\">What happened in states after medical marijuana laws were passed? Did opioid overdoses go up, stay the same, or go down?</p>,\n",
       " <p class=\"p1\">Millions of people in the United States have been <a href=\"https://www.ncbi.nlm.nih.gov/pubmed/28162799\" rel=\"noopener noreferrer\" target=\"_blank\"><span class=\"s1\">diagnosed</span></a> with an opioid use disorder, and more than 80 Americans <span class=\"s2\">die</span> each day from opioid overdose. Where is this coming from? Most “new heroin users started out misusing opioid prescription painkillers.” This is important because more than 200 million opioid painkiller prescriptions are still written every year. Did you catch that number? Two hundred million prescriptions every year, “a number closely approximating the entire adult population in the United States.” That’s incredible.</p>,\n",
       " <p class=\"p1\">“‘When you <a href=\"https://nutritionfacts.org/video/do-potatoes-increase-the-risk-of-high-blood-pressure-and-death/\" rel=\"noopener noreferrer\" target=\"_blank\"><span class=\"s1\">see</span></a> something like the opioid addiction crisis blossoming in so many states around this country, the last thing we should be doing is encouraging people’ to smoke cannabis, [White House Spokesperson Sean] Spicer told reporters.” But, if opioid addiction starts with people taking prescription pain pills, maybe cannabis would <a href=\"https://pubmed.ncbi.nlm.nih.gov/25154332/\" rel=\"noopener noreferrer\" target=\"_blank\"><span class=\"s1\">reduce</span></a> the problem by offering a substitute painkiller. Alternatively, maybe cannabis would act like a “gateway” drug or “stepping stone” to harder drugs, potentially making the opioid epidemic worse, as I discuss in my video <a href=\"https://nutritionfacts.org/video/marijuana-legalization-and-the-opioid-epidemic/\" rel=\"noopener noreferrer\" target=\"_blank\"><span class=\"s1\"><b>Marijuana Legalization and the Opioid Epidemic</b></span></a>.</p>,\n",
       " <p class=\"p1\">Well, first, does cannabis <a href=\"https://www.ncbi.nlm.nih.gov/pubmed/19296351\" rel=\"noopener noreferrer\" target=\"_blank\"><span class=\"s1\">work</span></a>? “Is it a truly effective drug for pain that is arbitrarily stigmatized by many and criminalized by the federal government? Or is it without any medical utility, its advocates hiding behind a screen of misplaced (or deliberately misleading) compassion for the ill?” The official position of the American Medical Association is that marijuana “<a href=\"https://assets.ama-assn.org/sub/meeting/documents/i16-resolution-907.pdf\" rel=\"noopener noreferrer\" target=\"_blank\"><span class=\"s1\">has</span></a> no scientifically proven, currently accepted medical use for preventing or treating any disease,” but what does the science say?</p>,\n",
       " <p class=\"p1\">“Despite the widespread use of opioids, 50% – 80% of advanced cancer patients <a href=\"https://www.ncbi.nlm.nih.gov/pmc/articles/PMC5176373/\" rel=\"noopener noreferrer\" target=\"_blank\"><span class=\"s1\">die</span></a> with unmet pain-relief needs.” So, adding cannabis may help. Indeed, double-blind, placebo-controlled clinical trials have <a href=\"https://pubmed.ncbi.nlm.nih.gov/26339208/\" rel=\"noopener noreferrer\" target=\"_blank\"><span class=\"s1\">found</span></a> that cannabis compounds do produce pain relief, “equivalent to moderate doses of codeine,” an opioid used to treat mild to moderate pain, but if you’re dying from cancer, don’t you want the good stuff? Why not just crank up the morphine?<span class=\"Apple-converted-space\"> </span></p>,\n",
       " <p class=\"p1\">If you wanted, you could <a href=\"https://www.ncbi.nlm.nih.gov/pubmed/27022315\" rel=\"noopener noreferrer\" target=\"_blank\"><span class=\"s1\">put</span></a> someone in coma and erase all their pain, but there’s a very real problem with such high doses of opiates: Here you are, at the end of life, surrounded by loved ones, but you’re so doped up you can’t even say goodbye. This is where cannabis may help. It may allow patients to drop down the opiate dose a bit without compromising pain control.</p>,\n",
       " <p class=\"p1\">That’s what many <a href=\"https://www.ncbi.nlm.nih.gov/pubmed/28372506\" rel=\"noopener noreferrer\" target=\"_blank\"><span class=\"s1\">report</span></a>, anyway. If you look at New England, for example, which can be thought of as ground zero for the opioid epidemic, in just one year, “there were enough opioids dispensed from Maine pharmacies in 2014 to supply every person in the state with a 16-day supply.” What are they doing up there?</p>,\n",
       " <p class=\"p1\">Among the New Englanders surveyed who were on opioids, however, most claimed “they reduced their [opioid] use since they started MC,” medical cannabis. Some also reduced their use of antidepressants, alcohol, anti-anxiety medications, migraine meds, and sleeping pills. Forty percent said they were able to reduce their opioid use “a lot,” as you can see at 3:16 in my <a href=\"https://nutritionfacts.org/video/marijuana-legalization-and-the-opioid-epidemic/\" rel=\"noopener noreferrer\" target=\"_blank\"><span class=\"s1\"><b>video</b></span></a>.</p>,\n",
       " <p class=\"p1\">Cannabis use may even <a href=\"https://www.ncbi.nlm.nih.gov/pubmed/28399488\" rel=\"noopener noreferrer\" target=\"_blank\"><span class=\"s1\">reduce</span></a> the use of crack cocaine. It may seem strange to give drugs to drug addicts, but if people even make a partial switch from more to less harmful drugs, overall harm may be reduced. So, what <a href=\"https://www.ncbi.nlm.nih.gov/pubmed/25154332\" rel=\"noopener noreferrer\" target=\"_blank\"><span class=\"s1\">happened</span></a> after medical marijuana laws were passed? Did opioid overdoses go up, stay the same, or go down?<span class=\"Apple-converted-space\"> </span></p>,\n",
       " <p class=\"p1\">They went down.<span class=\"Apple-converted-space\"> </span></p>,\n",
       " <p class=\"p1\">“Medical cannabis laws are associated with significantly lower state-level opioid overdose mortality rates,” about a 25 percent lower rate of overdose deaths. “The striking implication is that medical marijuana laws…may <a href=\"https://www.ncbi.nlm.nih.gov/pubmed/25156148\" rel=\"noopener noreferrer\" target=\"_blank\"><span class=\"s1\">represent</span></a> a promising approach for stemming” the opioid overdose epidemic. “If true, this finding upsets the applecart of conventional wisdom regarding the public health implications of marijuana legalization and medicinal usefulness.” On the one hand, we have the AMA saying cannabis isn’t medically helpful, but, on the other hand, if people are getting enough benefit using it so they can cut down on their prescriptions, then obviously <i>something</i> is going on.<span class=\"Apple-converted-space\"> </span></p>,\n",
       " <p class=\"p1\">What about other prescription drugs? As you can see at 4:37 in my <a href=\"https://nutritionfacts.org/video/marijuana-legalization-and-the-opioid-epidemic/\" rel=\"noopener noreferrer\" target=\"_blank\"><span class=\"s1\"><b>video</b></span></a>, once medical marijuana laws were <a href=\"https://www.ncbi.nlm.nih.gov/pubmed/27385238\" rel=\"noopener noreferrer\" target=\"_blank\"><span class=\"s1\">passed</span></a>, fewer people were filling prescriptions—and not only fewer prescriptions for painkillers, but fewer prescriptions for anti-anxiety drugs, antidepressants, anti-nausea drugs, antipsychotics, anti-seizure drugs, and sleeping pills. If all states adopted medical marijuana laws, that could save around half a billion dollars a year. But, the half-billion dollars taxpayers would save, is the half-billion bucks drug companies would lose, so it’s no wonder Big Pharma is freaking out. Why do you think pharmaceutical corporations, including the makers of OxyContin and Vicodin, were major sponsors of the marijuana prohibition lobby, <a href=\"https://www.ncbi.nlm.nih.gov/pubmed/27417997\" rel=\"noopener noreferrer\" target=\"_blank\"><span class=\"s1\">trying</span></a> to stop legalization? “Other major sponsors of marijuana prohibition were the beer industry, police unions, and the private prison industry.”</p>,\n",
       " <p class=\"p1\">Check out:</p>]"
      ]
     },
     "execution_count": 148,
     "metadata": {},
     "output_type": "execute_result"
    }
   ],
   "source": [
    "# Extract the content you are interested in\n",
    "paragraphs_raw = soup.find_all(\"p\", class_='p1')\n",
    "content = \"\\n\\n\".join(para.get_text() for para in paragraphs_raw)\n",
    "paragraphs_raw"
   ]
  },
  {
   "cell_type": "code",
   "execution_count": 149,
   "metadata": {},
   "outputs": [],
   "source": [
    "with open(f\"{url_tail}.txt\", \"w\") as f:\n",
    "    f.write(content)\n"
   ]
  },
  {
   "cell_type": "markdown",
   "metadata": {},
   "source": [
    "#### meta data"
   ]
  },
  {
   "cell_type": "code",
   "execution_count": 166,
   "metadata": {},
   "outputs": [
    {
     "data": {
      "text/plain": [
       "{'title': 'After Marijuana Legalization Did Opioid Overdoses Go Up, Stay the Same, or Go Down?',\n",
       " 'created': '2022-05-31T12:00:33+00:00',\n",
       " 'updated': '2022-12-13T13:17:33-05:00'}"
      ]
     },
     "execution_count": 166,
     "metadata": {},
     "output_type": "execute_result"
    }
   ],
   "source": [
    "meta_data= get_meta_data(soup)\n",
    "meta_data"
   ]
  },
  {
   "cell_type": "code",
   "execution_count": 150,
   "metadata": {},
   "outputs": [
    {
     "data": {
      "text/plain": [
       "'After Marijuana Legalization Did Opioid Overdoses Go Up, Stay the Same, or Go Down?'"
      ]
     },
     "execution_count": 150,
     "metadata": {},
     "output_type": "execute_result"
    }
   ],
   "source": [
    "title_text = soup.find('h1', class_='entry-title').get_text()\n",
    "title_text"
   ]
  },
  {
   "cell_type": "code",
   "execution_count": 151,
   "metadata": {},
   "outputs": [
    {
     "name": "stdout",
     "output_type": "stream",
     "text": [
      "Datetime 01: 2022-05-31T12:00:33+00:00\n",
      "Datetime 02: 2022-12-13T13:17:33-05:00\n"
     ]
    }
   ],
   "source": [
    "# Extract the first datetime value\n",
    "date_created = soup.find('time', class_='updated')['datetime']\n",
    "\n",
    "# Extract the second datetime value (using the second <time> tag)\n",
    "date_last_update = soup.find_all('time')[1]['datetime']\n",
    "\n",
    "print(\"Datetime 01:\", date_created)\n",
    "print(\"Datetime 02:\", date_last_update)"
   ]
  },
  {
   "cell_type": "markdown",
   "metadata": {},
   "source": [
    "#### paragraphs"
   ]
  },
  {
   "cell_type": "code",
   "execution_count": 163,
   "metadata": {},
   "outputs": [
    {
     "data": {
      "text/plain": [
       "['What happened in states after medical marijuana laws were passed? Did opioid overdoses go up, stay the same, or go down?',\n",
       " \"Millions of people in the United States have been diagnosed with an opioid use disorder, and more than 80 Americans die each day from opioid overdose. Where is this coming from? Most 'new heroin users started out misusing opioid prescription painkillers.' This is important because more than 200 million opioid painkiller prescriptions are still written every year. Did you catch that number? Two hundred million prescriptions every year, 'a number closely approximating the entire adult population in the United States.' That's incredible.\",\n",
       " \"''When you see something like the opioid addiction crisis blossoming in so many states around this country, the last thing we should be doing is encouraging people' to smoke cannabis, [White House Spokesperson Sean] Spicer told reporters.' But, if opioid addiction starts with people taking prescription pain pills, maybe cannabis would reduce the problem by offering a substitute painkiller. Alternatively, maybe cannabis would act like a 'gateway' drug or 'stepping stone' to harder drugs, potentially making the opioid epidemic worse, as I discuss in my video Marijuana Legalization and the Opioid Epidemic.\",\n",
       " \"Well, first, does cannabis work? 'Is it a truly effective drug for pain that is arbitrarily stigmatized by many and criminalized by the federal government? Or is it without any medical utility, its advocates hiding behind a screen of misplaced (or deliberately misleading) compassion for the ill?' The official position of the American Medical Association is that marijuana 'has no scientifically proven, currently accepted medical use for preventing or treating any disease,' but what does the science say?\",\n",
       " \"'Despite the widespread use of opioids, 50% – 80% of advanced cancer patients die with unmet pain-relief needs.' So, adding cannabis may help. Indeed, double-blind, placebo-controlled clinical trials have found that cannabis compounds do produce pain relief, 'equivalent to moderate doses of codeine,' an opioid used to treat mild to moderate pain, but if you're dying from cancer, don't you want the good stuff? Why not just crank up the morphine?\",\n",
       " \"If you wanted, you could put someone in coma and erase all their pain, but there's a very real problem with such high doses of opiates: Here you are, at the end of life, surrounded by loved ones, but you're so doped up you can't even say goodbye. This is where cannabis may help. It may allow patients to drop down the opiate dose a bit without compromising pain control.\",\n",
       " \"That's what many report, anyway. If you look at New England, for example, which can be thought of as ground zero for the opioid epidemic, in just one year, 'there were enough opioids dispensed from Maine pharmacies in 2014 to supply every person in the state with a 16-day supply.' What are they doing up there?\",\n",
       " \"Among the New Englanders surveyed who were on opioids, however, most claimed 'they reduced their [opioid] use since they started MC,' medical cannabis. Some also reduced their use of antidepressants, alcohol, anti-anxiety medications, migraine meds, and sleeping pills. Forty percent said they were able to reduce their opioid use 'a lot,' as you can see at 3:16 in my video.\",\n",
       " 'Cannabis use may even reduce the use of crack cocaine. It may seem strange to give drugs to drug addicts, but if people even make a partial switch from more to less harmful drugs, overall harm may be reduced. So, what happened after medical marijuana laws were passed? Did opioid overdoses go up, stay the same, or go down?',\n",
       " 'They went down.',\n",
       " \"'Medical cannabis laws are associated with significantly lower state-level opioid overdose mortality rates,' about a 25 percent lower rate of overdose deaths. 'The striking implication is that medical marijuana laws...may represent a promising approach for stemming' the opioid overdose epidemic. 'If true, this finding upsets the applecart of conventional wisdom regarding the public health implications of marijuana legalization and medicinal usefulness.' On the one hand, we have the AMA saying cannabis isn't medically helpful, but, on the other hand, if people are getting enough benefit using it so they can cut down on their prescriptions, then obviously something is going on.\",\n",
       " \"What about other prescription drugs? As you can see at 4:37 in my video, once medical marijuana laws were passed, fewer people were filling prescriptions-and not only fewer prescriptions for painkillers, but fewer prescriptions for anti-anxiety drugs, antidepressants, anti-nausea drugs, antipsychotics, anti-seizure drugs, and sleeping pills. If all states adopted medical marijuana laws, that could save around half a billion dollars a year. But, the half-billion dollars taxpayers would save, is the half-billion bucks drug companies would lose, so it's no wonder Big Pharma is freaking out. Why do you think pharmaceutical corporations, including the makers of OxyContin and Vicodin, were major sponsors of the marijuana prohibition lobby, trying to stop legalization? 'Other major sponsors of marijuana prohibition were the beer industry, police unions, and the private prison industry.'\"]"
      ]
     },
     "execution_count": 163,
     "metadata": {},
     "output_type": "execute_result"
    }
   ],
   "source": [
    "paragraphs_clean = get_paragraphs(soup)\n",
    "paragraphs_clean"
   ]
  },
  {
   "cell_type": "code",
   "execution_count": 153,
   "metadata": {},
   "outputs": [],
   "source": [
    "paragraphs_html: list = soup.find_all(\"p\", class_='p1')\n",
    "if not paragraphs_html:\n",
    "    paragraphs_html = soup.find_all(\"p\")"
   ]
  },
  {
   "cell_type": "code",
   "execution_count": 154,
   "metadata": {},
   "outputs": [
    {
     "data": {
      "text/plain": [
       "['What happened in states after medical marijuana laws were passed? Did opioid overdoses go up, stay the same, or go down?',\n",
       " 'Millions of people in the United States have been diagnosed with an opioid use disorder, and more than 80 Americans die each day from opioid overdose. Where is this coming from? Most “new heroin users started out misusing opioid prescription painkillers.” This is important because more than 200 million opioid painkiller prescriptions are still written every year. Did you catch that number? Two hundred million prescriptions every year, “a number closely approximating the entire adult population in the United States.” That’s incredible.',\n",
       " '“‘When you see something like the opioid addiction crisis blossoming in so many states around this country, the last thing we should be doing is encouraging people’ to smoke cannabis, [White House Spokesperson Sean] Spicer told reporters.” But, if opioid addiction starts with people taking prescription pain pills, maybe cannabis would reduce the problem by offering a substitute painkiller. Alternatively, maybe cannabis would act like a “gateway” drug or “stepping stone” to harder drugs, potentially making the opioid epidemic worse, as I discuss in my video Marijuana Legalization and the Opioid Epidemic.',\n",
       " 'Well, first, does cannabis work? “Is it a truly effective drug for pain that is arbitrarily stigmatized by many and criminalized by the federal government? Or is it without any medical utility, its advocates hiding behind a screen of misplaced (or deliberately misleading) compassion for the ill?” The official position of the American Medical Association is that marijuana “has no scientifically proven, currently accepted medical use for preventing or treating any disease,” but what does the science say?',\n",
       " '“Despite the widespread use of opioids, 50% – 80% of advanced cancer patients die with unmet pain-relief needs.” So, adding cannabis may help. Indeed, double-blind, placebo-controlled clinical trials have found that cannabis compounds do produce pain relief, “equivalent to moderate doses of codeine,” an opioid used to treat mild to moderate pain, but if you’re dying from cancer, don’t you want the good stuff? Why not just crank up the morphine?\\xa0',\n",
       " 'If you wanted, you could put someone in coma and erase all their pain, but there’s a very real problem with such high doses of opiates: Here you are, at the end of life, surrounded by loved ones, but you’re so doped up you can’t even say goodbye. This is where cannabis may help. It may allow patients to drop down the opiate dose a bit without compromising pain control.',\n",
       " 'That’s what many report, anyway. If you look at New England, for example, which can be thought of as ground zero for the opioid epidemic, in just one year, “there were enough opioids dispensed from Maine pharmacies in 2014 to supply every person in the state with a 16-day supply.” What are they doing up there?',\n",
       " 'Among the New Englanders surveyed who were on opioids, however, most claimed “they reduced their [opioid] use since they started MC,” medical cannabis. Some also reduced their use of antidepressants, alcohol, anti-anxiety medications, migraine meds, and sleeping pills. Forty percent said they were able to reduce their opioid use “a lot,” as you can see at 3:16 in my video.',\n",
       " 'Cannabis use may even reduce the use of crack cocaine. It may seem strange to give drugs to drug addicts, but if people even make a partial switch from more to less harmful drugs, overall harm may be reduced. So, what happened after medical marijuana laws were passed? Did opioid overdoses go up, stay the same, or go down?\\xa0',\n",
       " 'They went down.\\xa0',\n",
       " '“Medical cannabis laws are associated with significantly lower state-level opioid overdose mortality rates,” about a 25 percent lower rate of overdose deaths. “The striking implication is that medical marijuana laws…may represent a promising approach for stemming” the opioid overdose epidemic. “If true, this finding upsets the applecart of conventional wisdom regarding the public health implications of marijuana legalization and medicinal usefulness.” On the one hand, we have the AMA saying cannabis isn’t medically helpful, but, on the other hand, if people are getting enough benefit using it so they can cut down on their prescriptions, then obviously something is going on.\\xa0',\n",
       " 'What about other prescription drugs? As you can see at 4:37 in my video, once medical marijuana laws were passed, fewer people were filling prescriptions—and not only fewer prescriptions for painkillers, but fewer prescriptions for anti-anxiety drugs, antidepressants, anti-nausea drugs, antipsychotics, anti-seizure drugs, and sleeping pills. If all states adopted medical marijuana laws, that could save around half a billion dollars a year. But, the half-billion dollars taxpayers would save, is the half-billion bucks drug companies would lose, so it’s no wonder Big Pharma is freaking out. Why do you think pharmaceutical corporations, including the makers of OxyContin and Vicodin, were major sponsors of the marijuana prohibition lobby, trying to stop legalization? “Other major sponsors of marijuana prohibition were the beer industry, police unions, and the private prison industry.”',\n",
       " 'Check out:']"
      ]
     },
     "execution_count": 154,
     "metadata": {},
     "output_type": "execute_result"
    }
   ],
   "source": [
    "paragraphs_raw: list[str] = [para.get_text() for para in paragraphs_html]\n",
    "paragraphs_raw"
   ]
  },
  {
   "cell_type": "code",
   "execution_count": 156,
   "metadata": {},
   "outputs": [
    {
     "data": {
      "text/plain": [
       "['What happened in states after medical marijuana laws were passed? Did opioid overdoses go up, stay the same, or go down?',\n",
       " \"Millions of people in the United States have been diagnosed with an opioid use disorder, and more than 80 Americans die each day from opioid overdose. Where is this coming from? Most 'new heroin users started out misusing opioid prescription painkillers.' This is important because more than 200 million opioid painkiller prescriptions are still written every year. Did you catch that number? Two hundred million prescriptions every year, 'a number closely approximating the entire adult population in the United States.' That's incredible.\",\n",
       " \"''When you see something like the opioid addiction crisis blossoming in so many states around this country, the last thing we should be doing is encouraging people' to smoke cannabis, [White House Spokesperson Sean] Spicer told reporters.' But, if opioid addiction starts with people taking prescription pain pills, maybe cannabis would reduce the problem by offering a substitute painkiller. Alternatively, maybe cannabis would act like a 'gateway' drug or 'stepping stone' to harder drugs, potentially making the opioid epidemic worse, as I discuss in my video Marijuana Legalization and the Opioid Epidemic.\",\n",
       " \"Well, first, does cannabis work? 'Is it a truly effective drug for pain that is arbitrarily stigmatized by many and criminalized by the federal government? Or is it without any medical utility, its advocates hiding behind a screen of misplaced (or deliberately misleading) compassion for the ill?' The official position of the American Medical Association is that marijuana 'has no scientifically proven, currently accepted medical use for preventing or treating any disease,' but what does the science say?\",\n",
       " \"'Despite the widespread use of opioids, 50% – 80% of advanced cancer patients die with unmet pain-relief needs.' So, adding cannabis may help. Indeed, double-blind, placebo-controlled clinical trials have found that cannabis compounds do produce pain relief, 'equivalent to moderate doses of codeine,' an opioid used to treat mild to moderate pain, but if you're dying from cancer, don't you want the good stuff? Why not just crank up the morphine?\",\n",
       " \"If you wanted, you could put someone in coma and erase all their pain, but there's a very real problem with such high doses of opiates: Here you are, at the end of life, surrounded by loved ones, but you're so doped up you can't even say goodbye. This is where cannabis may help. It may allow patients to drop down the opiate dose a bit without compromising pain control.\",\n",
       " \"That's what many report, anyway. If you look at New England, for example, which can be thought of as ground zero for the opioid epidemic, in just one year, 'there were enough opioids dispensed from Maine pharmacies in 2014 to supply every person in the state with a 16-day supply.' What are they doing up there?\",\n",
       " \"Among the New Englanders surveyed who were on opioids, however, most claimed 'they reduced their [opioid] use since they started MC,' medical cannabis. Some also reduced their use of antidepressants, alcohol, anti-anxiety medications, migraine meds, and sleeping pills. Forty percent said they were able to reduce their opioid use 'a lot,' as you can see at 3:16 in my video.\",\n",
       " 'Cannabis use may even reduce the use of crack cocaine. It may seem strange to give drugs to drug addicts, but if people even make a partial switch from more to less harmful drugs, overall harm may be reduced. So, what happened after medical marijuana laws were passed? Did opioid overdoses go up, stay the same, or go down?',\n",
       " 'They went down.',\n",
       " \"'Medical cannabis laws are associated with significantly lower state-level opioid overdose mortality rates,' about a 25 percent lower rate of overdose deaths. 'The striking implication is that medical marijuana laws...may represent a promising approach for stemming' the opioid overdose epidemic. 'If true, this finding upsets the applecart of conventional wisdom regarding the public health implications of marijuana legalization and medicinal usefulness.' On the one hand, we have the AMA saying cannabis isn't medically helpful, but, on the other hand, if people are getting enough benefit using it so they can cut down on their prescriptions, then obviously something is going on.\",\n",
       " \"What about other prescription drugs? As you can see at 4:37 in my video, once medical marijuana laws were passed, fewer people were filling prescriptions-and not only fewer prescriptions for painkillers, but fewer prescriptions for anti-anxiety drugs, antidepressants, anti-nausea drugs, antipsychotics, anti-seizure drugs, and sleeping pills. If all states adopted medical marijuana laws, that could save around half a billion dollars a year. But, the half-billion dollars taxpayers would save, is the half-billion bucks drug companies would lose, so it's no wonder Big Pharma is freaking out. Why do you think pharmaceutical corporations, including the makers of OxyContin and Vicodin, were major sponsors of the marijuana prohibition lobby, trying to stop legalization? 'Other major sponsors of marijuana prohibition were the beer industry, police unions, and the private prison industry.'\"]"
      ]
     },
     "execution_count": 156,
     "metadata": {},
     "output_type": "execute_result"
    }
   ],
   "source": [
    "# Extract and clean paragraphs while excluding those that start with certain phrases\n",
    "paragraphs_raw: list[str] = [para_html.get_text().strip() for para_html in paragraphs_html]\n",
    "exclude_startswith: list[str] = [\"Written By\",\"Image Credit\",\"In health\",\"Michael Greger\",\"PS:\",\"A founding member\",\"Subscribe\",\"Catch up\",\"Charity ID\",\"We  our volunteers!\",\"Interested in learning more about\",\"Check out:\"]\n",
    "# Create clean list\n",
    "paragraphs_clean: list[str] = [\n",
    "    replace_strange_chars(para_raw)\n",
    "    for para_raw in paragraphs_raw\n",
    "    if para_raw and not any(para_raw.startswith(prefix) for prefix in exclude_startswith)\n",
    "]\n",
    "blog_content[\"paragraphs\"] = paragraphs_clean\n",
    "paragraphs_clean"
   ]
  },
  {
   "cell_type": "markdown",
   "metadata": {},
   "source": [
    "#### Extract key takeaways"
   ]
  },
  {
   "cell_type": "code",
   "execution_count": 159,
   "metadata": {},
   "outputs": [
    {
     "name": "stdout",
     "output_type": "stream",
     "text": [
      "More than 200 million opioid painkiller prescriptions are written annually despite the diagnosis of millions in the United States with an opioid use disorder and more than 80 Americans dying every day from opioid overdose.\n",
      "Might cannabis act as a gateway to harder drugs, like opioids, or might it reduce opioid addiction by offering a substitute painkiller to prescription pills?\n",
      "The American Medical Association's official position is that marijuana 'has no scientifically proven, currently accepted medical use for preventing or treating any disease,' but studies have found that cannabis compounds produce pain relief 'equivalent to moderate doses of codeine,' an opioid used to treat mild to moderate pain.\n",
      "At the end of life, cannabis may allow patients to reduce opiate doses without compromising pain relief such that they may not be in such a drug-induced stupor that they cannot say goodbye.\n",
      "Most New Englanders taking opioids claimed they reduced their opioid use after starting medical cannabis, and some also reduced use of alcohol, antidepressants, sleeping pills, and anti-anxiety and migraine medications. Cannabis may also reduce use of crack cocaine.\n",
      "After medical marijuana laws were passed, opioid overdoses went down, about a 25 percent lower rate of opioid overdose deaths, and fewer people were filling prescriptions-not only for painkillers, but also for anti-anxiety drugs, antidepressants, anti-nausea drugs, antipsychotics, anti-seizure drugs, and sleeping pills.\n",
      "About half a billion dollars would be saved annually if medical marijuana laws were adopted across the United States, but the half-billion taxpayers would save is the half-billion drug companies would lose.\n"
     ]
    }
   ],
   "source": [
    "key_takeaways_heading = soup.find('p', string=\"KEY TAKEAWAYS\")\n",
    "if key_takeaways_heading is None:\n",
    "    key_takeaways = []\n",
    "else:\n",
    "    # Find the next <ul> element after the \"KEY TAKEAWAYS\" heading\n",
    "    key_takeaways_list = key_takeaways_heading.find_next('ul')\n",
    "\n",
    "    # Extract the text from each <li> in the list\n",
    "    key_takeaways = [replace_strange_chars(li.get_text().stripe()) for li in key_takeaways_list.find_all('li')]\n",
    "\n",
    "# Print or use the extracted key takeaways\n",
    "for takeaway in key_takeaways:\n",
    "    print(takeaway)\n",
    "\n"
   ]
  },
  {
   "cell_type": "markdown",
   "metadata": {},
   "source": [
    "#### export to json"
   ]
  },
  {
   "cell_type": "code",
   "execution_count": 170,
   "metadata": {},
   "outputs": [],
   "source": [
    "blog_content = { }\n",
    "blog_content.update(get_meta_data(soup))\n",
    "blog_content[\"paragraphs\"] = get_paragraphs(soup)\n",
    "blog_content[\"key_takeaways\"] = get_key_takeaways(soup)"
   ]
  },
  {
   "cell_type": "code",
   "execution_count": 171,
   "metadata": {},
   "outputs": [],
   "source": [
    "# write to json file\n",
    "with open(f\"{url_tail}.json\", \"w\") as f:\n",
    "    json.dump(blog_content, f)\n"
   ]
  },
  {
   "cell_type": "markdown",
   "metadata": {},
   "source": [
    "### Real extraction loop"
   ]
  },
  {
   "cell_type": "markdown",
   "metadata": {},
   "source": [
    "#### pure text"
   ]
  },
  {
   "cell_type": "code",
   "execution_count": 57,
   "metadata": {},
   "outputs": [
    {
     "name": "stderr",
     "output_type": "stream",
     "text": [
      "100%|██████████| 1281/1281 [00:00<00:00, 34354.04it/s]\n"
     ]
    }
   ],
   "source": [
    "# pure text\n",
    "for url in tqdm(urls_list):\n",
    "    url_tail = url.replace(root_url, \"\").replace(\"/\", \"\")\n",
    "    file_out = post_path_raw / f\"{url_tail}.txt\"\n",
    "    if file_out.exists():\n",
    "        continue\n",
    "\n",
    "    time.sleep(0.5) # wait a bit to avoid being blocked\n",
    "\n",
    "    # get the HTML content\n",
    "    response = get_webpage_content(url)\n",
    "    # Parse the HTML content\n",
    "    soup = BeautifulSoup(response.content, \"html.parser\")\n",
    "\n",
    "    # Extract the content\n",
    "    paragraphs = soup.find_all(\"p\")\n",
    "    content = \"\\n\\n\".join(para.get_text() for para in paragraphs)\n",
    "\n",
    "    # export to file\n",
    "    with open(file_out, \"w\", encoding=\"utf-8\") as f:\n",
    "        f.write(content)\n",
    "\n",
    "# 100%|██████████| 1281/1281 [28:03<00:00,  1.31s/it]"
   ]
  },
  {
   "cell_type": "markdown",
   "metadata": {},
   "source": [
    "#### meta data and text chunks"
   ]
  },
  {
   "cell_type": "code",
   "execution_count": null,
   "metadata": {},
   "outputs": [],
   "source": [
    "\n",
    "for url in tqdm(urls_list):\n",
    "    url_tail = url.replace(root_url, \"\").replace(\"/\", \"\")\n",
    "    file_out = post_path_json / f\"{url_tail}.json\"\n",
    "    if file_out.exists():\n",
    "        continue\n",
    "\n",
    "    time.sleep(0.1) # wait a bit to avoid being blocked\n",
    "\n",
    "    # get the HTML content\n",
    "    response = get_webpage_content(url)\n",
    "    # Parse the HTML content\n",
    "    soup = BeautifulSoup(response.content, \"html.parser\")\n",
    "\n",
    "    blog_content = { }\n",
    "    blog_content.update(get_meta_data(soup))\n",
    "    blog_content[\"paragraphs\"] = get_paragraphs(soup)\n",
    "    blog_content[\"key_takeaways\"] = get_key_takeaways(soup)\n",
    "\n",
    "    # export to file\n",
    "    with open(file_out, \"w\", encoding=\"utf-8\") as f:\n",
    "        json.dump(blog_content, f)"
   ]
  }
 ],
 "metadata": {
  "kernelspec": {
   "display_name": "venv",
   "language": "python",
   "name": "python3"
  },
  "language_info": {
   "codemirror_mode": {
    "name": "ipython",
    "version": 3
   },
   "file_extension": ".py",
   "mimetype": "text/x-python",
   "name": "python",
   "nbconvert_exporter": "python",
   "pygments_lexer": "ipython3",
   "version": "3.12.3"
  }
 },
 "nbformat": 4,
 "nbformat_minor": 2
}
