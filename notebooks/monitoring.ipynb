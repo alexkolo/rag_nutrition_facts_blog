{
 "cells": [
  {
   "cell_type": "markdown",
   "metadata": {},
   "source": [
    "# Monitoring"
   ]
  },
  {
   "cell_type": "markdown",
   "metadata": {},
   "source": [
    "## Libraries"
   ]
  },
  {
   "cell_type": "code",
   "execution_count": null,
   "metadata": {},
   "outputs": [],
   "source": [
    "import uuid\n",
    "from datetime import datetime\n",
    "\n",
    "import pytz\n",
    "import tomli\n",
    "from pymongo.collection import Collection\n",
    "\n",
    "from src.constants import get_rag_config\n",
    "from src.mongodb import MongodbClient"
   ]
  },
  {
   "cell_type": "markdown",
   "metadata": {},
   "source": [
    "## Functions"
   ]
  },
  {
   "cell_type": "code",
   "execution_count": null,
   "metadata": {},
   "outputs": [],
   "source": [
    "def find_and_print_one(coll: Collection, filter=None):\n",
    "    response = coll.find_one(filter if filter else {})\n",
    "    if response is None:\n",
    "        print(\"No data in collection.\")\n",
    "    else:\n",
    "        print(response)"
   ]
  },
  {
   "cell_type": "markdown",
   "metadata": {},
   "source": [
    "## Code"
   ]
  },
  {
   "cell_type": "markdown",
   "metadata": {},
   "source": [
    "### MongoDB Tests"
   ]
  },
  {
   "cell_type": "code",
   "execution_count": null,
   "metadata": {},
   "outputs": [],
   "source": [
    "# create mock entry\n",
    "user_id = str(uuid.uuid4())\n",
    "filter = {\"user_id\": user_id}\n",
    "new_entry = {\n",
    "    \"user_id\": user_id,\n",
    "    \"timestamp\": datetime.now(tz=pytz.utc).strftime(\"%Y-%m-%d %H:%M:%S\"),\n",
    "    \"user_name\": \"Bill Gates\",\n",
    "    \"like_bot\": None,\n",
    "    \"chat_history\": None,\n",
    "}"
   ]
  },
  {
   "cell_type": "markdown",
   "metadata": {},
   "source": [
    "#### Local"
   ]
  },
  {
   "cell_type": "code",
   "execution_count": null,
   "metadata": {},
   "outputs": [],
   "source": [
    "MONGODB_CONFIG = get_rag_config()[\"mongodb\"]\n",
    "MONGODB_CONFIG"
   ]
  },
  {
   "cell_type": "code",
   "execution_count": null,
   "metadata": {},
   "outputs": [],
   "source": [
    "# create Database  (a collection is not created until it gets content!)\n",
    "mongodb_client = MongodbClient(**MONGODB_CONFIG)"
   ]
  },
  {
   "cell_type": "code",
   "execution_count": null,
   "metadata": {},
   "outputs": [],
   "source": [
    "# Connection test\n",
    "mongodb_client.ping()"
   ]
  },
  {
   "cell_type": "code",
   "execution_count": null,
   "metadata": {},
   "outputs": [],
   "source": [
    "# list collections\n",
    "db = mongodb_client.get_database()\n",
    "db.list_collection_names()"
   ]
  },
  {
   "cell_type": "code",
   "execution_count": null,
   "metadata": {},
   "outputs": [],
   "source": [
    "coll_user_info = mongodb_client.get_collection()\n",
    "coll_user_info"
   ]
  },
  {
   "cell_type": "code",
   "execution_count": null,
   "metadata": {},
   "outputs": [],
   "source": [
    "print(\"Insert new row:\\n\\t\", end=\"\")\n",
    "mongodb_client.insert_one(new_entry=new_entry)\n",
    "# find_many_and_print_them(coll_user_info)\n",
    "find_and_print_one(coll_user_info, filter=filter)"
   ]
  },
  {
   "cell_type": "code",
   "execution_count": null,
   "metadata": {},
   "outputs": [],
   "source": [
    "# list collections\n",
    "db.list_collection_names()"
   ]
  },
  {
   "cell_type": "markdown",
   "metadata": {},
   "source": [
    "#### Cloud"
   ]
  },
  {
   "cell_type": "code",
   "execution_count": null,
   "metadata": {},
   "outputs": [],
   "source": [
    "# read in toml file\n",
    "# cloud_config = st.secrets[\"mongodb\"]\n",
    "with open(\"../.streamlit/secrets.toml\", \"rb\") as f:\n",
    "    cloud_config = tomli.load(f)[\"mongodb\"]\n",
    "cloud_config"
   ]
  },
  {
   "cell_type": "code",
   "execution_count": null,
   "metadata": {},
   "outputs": [],
   "source": [
    "# create Database  (a collection is not created until it gets content!)\n",
    "cloud_client = MongodbClient(**cloud_config)"
   ]
  },
  {
   "cell_type": "code",
   "execution_count": null,
   "metadata": {},
   "outputs": [],
   "source": [
    "# Connection test\n",
    "cloud_client.ping()"
   ]
  },
  {
   "cell_type": "code",
   "execution_count": null,
   "metadata": {},
   "outputs": [],
   "source": [
    "# list collections\n",
    "db = cloud_client.get_database()\n",
    "db.list_collection_names()"
   ]
  },
  {
   "cell_type": "code",
   "execution_count": null,
   "metadata": {},
   "outputs": [],
   "source": [
    "coll_user_info = cloud_client.get_collection()"
   ]
  },
  {
   "cell_type": "code",
   "execution_count": null,
   "metadata": {},
   "outputs": [],
   "source": [
    "list(coll_user_info.find())"
   ]
  },
  {
   "cell_type": "code",
   "execution_count": null,
   "metadata": {},
   "outputs": [],
   "source": [
    "print(\"Insert new row:\\n\\t\", end=\"\")\n",
    "cloud_client.insert_one(new_entry=new_entry)\n",
    "list(coll_user_info.find())"
   ]
  },
  {
   "cell_type": "markdown",
   "metadata": {},
   "source": [
    "## Grafana"
   ]
  },
  {
   "cell_type": "code",
   "execution_count": null,
   "metadata": {},
   "outputs": [],
   "source": [
    "# grafana with mongodb ??"
   ]
  }
 ],
 "metadata": {
  "kernelspec": {
   "display_name": "tvenv",
   "language": "python",
   "name": "python3"
  },
  "language_info": {
   "codemirror_mode": {
    "name": "ipython",
    "version": 3
   },
   "file_extension": ".py",
   "mimetype": "text/x-python",
   "name": "python",
   "nbconvert_exporter": "python",
   "pygments_lexer": "ipython3",
   "version": "3.12.3"
  }
 },
 "nbformat": 4,
 "nbformat_minor": 2
}
