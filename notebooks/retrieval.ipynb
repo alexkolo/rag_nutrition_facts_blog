{
 "cells": [
  {
   "cell_type": "markdown",
   "metadata": {},
   "source": [
    "# Retrieval"
   ]
  },
  {
   "cell_type": "markdown",
   "metadata": {},
   "source": [
    "## Libraries"
   ]
  },
  {
   "cell_type": "code",
   "execution_count": null,
   "metadata": {},
   "outputs": [],
   "source": [
    "import sys\n",
    "import warnings\n",
    "\n",
    "import lancedb\n",
    "from lancedb.db import DBConnection\n",
    "from lancedb.rerankers import (\n",
    "    ColbertReranker,\n",
    "    CrossEncoderReranker,\n",
    "    LinearCombinationReranker,\n",
    ")\n",
    "from lancedb.table import Table\n",
    "\n",
    "\n",
    "# isort: off\n",
    "sys.path.append(\"..\")  # include repository-root to load modules from src folder\n",
    "from src.constants import LANCEDB_URI, get_rag_config  # noqa: E402\n",
    "from src.embeddings import create_local_emb_func  # noqa: E402\n",
    "\n",
    "# ignore some warnings\n",
    "warnings.simplefilter(action=\"ignore\", category=FutureWarning)"
   ]
  },
  {
   "cell_type": "markdown",
   "metadata": {},
   "source": [
    "## Parameters"
   ]
  },
  {
   "cell_type": "code",
   "execution_count": null,
   "metadata": {},
   "outputs": [],
   "source": [
    "table_name: str = get_rag_config()[\"knowledge_base\"][\"table_name\"]\n",
    "emb_model_name: str = get_rag_config()[\"embeddings\"][\"model_name\"]"
   ]
  },
  {
   "cell_type": "markdown",
   "metadata": {},
   "source": [
    "## Code"
   ]
  },
  {
   "cell_type": "markdown",
   "metadata": {},
   "source": [
    "## Setup"
   ]
  },
  {
   "cell_type": "markdown",
   "metadata": {},
   "source": [
    "### Text Embedding Setup"
   ]
  },
  {
   "cell_type": "code",
   "execution_count": null,
   "metadata": {},
   "outputs": [],
   "source": [
    "emb_func = create_local_emb_func(emb_model_name)\n",
    "# measure the dimension of the embedding (serves as test)\n",
    "n_dim_vec = len(emb_func([\"foo\"])[0])"
   ]
  },
  {
   "cell_type": "markdown",
   "metadata": {},
   "source": [
    "### Access Knowledge Base"
   ]
  },
  {
   "cell_type": "code",
   "execution_count": null,
   "metadata": {},
   "outputs": [],
   "source": [
    "# load database\n",
    "# Testing\n",
    "db: DBConnection = lancedb.connect(uri=LANCEDB_URI)\n",
    "print(f\"List of all tables in the LanceDB database: {db.table_names()}\")"
   ]
  },
  {
   "cell_type": "code",
   "execution_count": null,
   "metadata": {},
   "outputs": [],
   "source": [
    "k_base: Table = db.open_table(table_name)\n",
    "print(f\"Number of entries in the table '{table_name}': {k_base.count_rows()}\")"
   ]
  },
  {
   "cell_type": "markdown",
   "metadata": {},
   "source": [
    "## Testing Retrieval"
   ]
  },
  {
   "cell_type": "code",
   "execution_count": null,
   "metadata": {},
   "outputs": [],
   "source": [
    "query_text: str = \"How to reduce heart Disease Risk\"\n",
    "query_vec: list[float] = emb_func([query_text])[0]\n",
    "\n",
    "n_best: int = 10"
   ]
  },
  {
   "cell_type": "code",
   "execution_count": null,
   "metadata": {},
   "outputs": [],
   "source": [
    "def show_results(response: list[dict]) -> None:\n",
    "    print(f\"{len(response)} results for query\")\n",
    "\n",
    "    # unique URLs\n",
    "    urls: set = {hit[\"url\"] for hit in response}\n",
    "    print(f\"{len(urls)} unique URL(s)\")\n",
    "\n",
    "    # unique Titles\n",
    "    titles: set = {hit[\"title\"] for hit in response}\n",
    "    print(f\"{len(titles)} unique Title(s)\")\n",
    "\n",
    "    print(\"Paragraphs:\")\n",
    "    for i, hit in enumerate(response):\n",
    "        score: float = hit.get(\n",
    "            \"_distance\", hit.get(\"score\", hit.get(\"_relevance_score\", 0))\n",
    "        )\n",
    "\n",
    "        print(f\" {i+1:2}. ({score:.3f}) '{hit['title']}' : '{hit['text']}'\")\n",
    "\n",
    "    # # tiles\n",
    "    # print(\"Titles:\")\n",
    "    # for i, hit in enumerate(response):\n",
    "    #     print(f\" {i+1:2}. {hit['title']}\")"
   ]
  },
  {
   "cell_type": "markdown",
   "metadata": {},
   "source": [
    "### Vector search\n",
    "- [Approximate nearest neighbor (ANN) search](https://lancedb.github.io/lancedb/search/#exhaustive-search-knn)"
   ]
  },
  {
   "cell_type": "code",
   "execution_count": null,
   "metadata": {},
   "outputs": [],
   "source": [
    "# Create and train the index - you need to have enough data in the table for an effective training step\n",
    "# (takes ~one minute)\n",
    "k_base.create_index(metric=\"cosine\", replace=True, accelerator=\"cuda\")"
   ]
  },
  {
   "cell_type": "code",
   "execution_count": null,
   "metadata": {},
   "outputs": [],
   "source": [
    "response_vec = k_base.search(query_vec, query_type=\"vector\").limit(n_best).to_list()"
   ]
  },
  {
   "cell_type": "code",
   "execution_count": null,
   "metadata": {},
   "outputs": [],
   "source": [
    "show_results(response_vec)"
   ]
  },
  {
   "cell_type": "markdown",
   "metadata": {},
   "source": [
    "### Full-text search (aka keyword-based search)\n",
    "- https://lancedb.github.io/lancedb/fts/"
   ]
  },
  {
   "cell_type": "code",
   "execution_count": null,
   "metadata": {},
   "outputs": [],
   "source": [
    "k_base.create_fts_index([\"text\", \"title\"], replace=True)"
   ]
  },
  {
   "cell_type": "code",
   "execution_count": null,
   "metadata": {},
   "outputs": [],
   "source": [
    "response_fts = k_base.search(query_text, query_type=\"fts\").limit(n_best).to_list()"
   ]
  },
  {
   "cell_type": "code",
   "execution_count": null,
   "metadata": {},
   "outputs": [],
   "source": [
    "show_results(response_fts)"
   ]
  },
  {
   "cell_type": "markdown",
   "metadata": {},
   "source": [
    "### Hybrid search\n",
    "- https://lancedb.github.io/lancedb/hybrid_search/hybrid_search\n",
    "- only possible if embeddings is handle by database"
   ]
  },
  {
   "cell_type": "code",
   "execution_count": null,
   "metadata": {},
   "outputs": [],
   "source": [
    "# default: linear combination, where vector search has 70% weight\n",
    "response_hy = k_base.search(query_text, query_type=\"hybrid\").limit(n_best).to_list()"
   ]
  },
  {
   "cell_type": "code",
   "execution_count": null,
   "metadata": {},
   "outputs": [],
   "source": [
    "show_results(response_hy)"
   ]
  },
  {
   "cell_type": "markdown",
   "metadata": {},
   "source": [
    "### Hybrid search with reranker (linear combination)"
   ]
  },
  {
   "cell_type": "code",
   "execution_count": null,
   "metadata": {},
   "outputs": [],
   "source": [
    "# Use 0.3 as the weight for vector search (instead of 0.7)\n",
    "reranker_lc = LinearCombinationReranker(weight=0.1)"
   ]
  },
  {
   "cell_type": "code",
   "execution_count": null,
   "metadata": {},
   "outputs": [],
   "source": [
    "response_rr = (\n",
    "    k_base.search(query_text, query_type=\"hybrid\")\n",
    "    .rerank(reranker=reranker_lc)\n",
    "    .limit(n_best)\n",
    "    .to_list()\n",
    ")"
   ]
  },
  {
   "cell_type": "code",
   "execution_count": null,
   "metadata": {},
   "outputs": [],
   "source": [
    "show_results(response_rr)"
   ]
  },
  {
   "cell_type": "markdown",
   "metadata": {},
   "source": [
    "### Hybrid search with reranker (Cross Encoder)"
   ]
  },
  {
   "cell_type": "code",
   "execution_count": null,
   "metadata": {},
   "outputs": [],
   "source": [
    "ce_reranker = CrossEncoderReranker(column=\"text\")\n",
    "\n",
    "results_ce = (\n",
    "    k_base.search(query_text, query_type=\"hybrid\")\n",
    "    .rerank(reranker=ce_reranker)\n",
    "    .limit(n_best)\n",
    "    .to_list()\n",
    ")"
   ]
  },
  {
   "cell_type": "code",
   "execution_count": null,
   "metadata": {},
   "outputs": [],
   "source": [
    "show_results(results_ce)"
   ]
  },
  {
   "cell_type": "markdown",
   "metadata": {},
   "source": [
    "### Hybrid search with reranker (ColBERT )"
   ]
  },
  {
   "cell_type": "code",
   "execution_count": null,
   "metadata": {},
   "outputs": [],
   "source": [
    "reranker_co = ColbertReranker()\n",
    "\n",
    "results_co = (\n",
    "    k_base.search(query_text, query_type=\"hybrid\")\n",
    "    .rerank(reranker=reranker_co)\n",
    "    .limit(n_best)\n",
    "    .to_list()\n",
    ")"
   ]
  },
  {
   "cell_type": "code",
   "execution_count": null,
   "metadata": {},
   "outputs": [],
   "source": [
    "show_results(results_co)"
   ]
  },
  {
   "cell_type": "code",
   "execution_count": null,
   "metadata": {},
   "outputs": [],
   "source": []
  }
 ],
 "metadata": {
  "kernelspec": {
   "display_name": "venv",
   "language": "python",
   "name": "python3"
  },
  "language_info": {
   "codemirror_mode": {
    "name": "ipython",
    "version": 3
   },
   "file_extension": ".py",
   "mimetype": "text/x-python",
   "name": "python",
   "nbconvert_exporter": "python",
   "pygments_lexer": "ipython3",
   "version": "3.12.3"
  }
 },
 "nbformat": 4,
 "nbformat_minor": 2
}
